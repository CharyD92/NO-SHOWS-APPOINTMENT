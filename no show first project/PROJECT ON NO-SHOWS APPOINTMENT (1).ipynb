{
 "cells": [
  {
   "cell_type": "markdown",
   "id": "164682aa",
   "metadata": {},
   "source": [
    "# **PROJECT: NO-SHOWS APOINTMENT DATA ANLAYSIS**"
   ]
  },
  {
   "cell_type": "markdown",
   "id": "c3076dd2",
   "metadata": {},
   "source": [
    "##  **A Brief Description Of The No-Shows Appointment Data**\n",
    "\n",
    "> This dataset collects information from 100k medical appointments in Brazil and is focused on the question of whether or not \n",
    "  patients show up for their appointment. A number of characteristics about the patient are included in each row.\n",
    "    \n",
    "### Here is a list of all column names on this dataset\n",
    "> Client ID, Appoinment ID, Gender, Scheduled day, Appointment Day, Age, Neighbourhood, Scholarship, Hipertension, Diabetes,\n",
    "  Hipertension, Alcoholism, Handicap, SMS_received, No-show.\n",
    "\n",
    "### Here are the significances of the columns\n",
    "\n",
    "> *Patient ID*: Identification of a patient\n",
    "    \n",
    "> *Appointment ID*: Identification of each appointment\n",
    "    \n",
    "> *Gender*: Male or Female . Female is the greater proportion, woman takes way more care of they health in comparison to man.\n",
    "\n",
    "> *Scheduled Day*: tells us on what day the patient set up their appointment.\n",
    "    \n",
    "> *Neighborhood*: indicates the location of the hospital.\n",
    "\n",
    "> *Age*: How old is the patient.\n",
    "\n",
    ">  *Hipertension*: True or False\n",
    "\n",
    ">  *Diabetes*: True or False\n",
    "\n",
    ">  *Alcoholism*: True or False\n",
    "\n",
    ">  *Handcap*: True or False\n",
    "\n",
    ">  *SMS_received*: 1 or more messages sent to the patient.\n",
    "\n",
    ">  *No-show*: True or False.\n",
    "\n",
    "> *Scholarship*: indicates whether or not the patient is enrolled in Brasilian welfare program Bolsa Família.\n",
    "\n",
    "    > **Key Point**\n",
    "\n",
    "> Encoding of the last column (Scholarship): it says ‘No’ if the patient showed up to their appointment, and ‘Yes’ if they did not show up."
   ]
  },
  {
   "cell_type": "markdown",
   "id": "b6684f7a",
   "metadata": {},
   "source": [
    "## **Data Wrangling**"
   ]
  },
  {
   "cell_type": "markdown",
   "id": "0dc21033",
   "metadata": {},
   "source": [
    "> The first thing thing we do before running any code in this noebook would be importing the neccessary packages needed for this analysis."
   ]
  },
  {
   "cell_type": "code",
   "execution_count": 1,
   "id": "77a7767d",
   "metadata": {},
   "outputs": [],
   "source": [
    "# importing statements for all the packages i plan to use\n",
    "\n",
    "import pandas as pd \n",
    "import numpy as np \n",
    "import matplotlib.pyplot as plt\n",
    "import seaborn as sns\n",
    "%matplotlib inline\n"
   ]
  },
  {
   "cell_type": "markdown",
   "id": "d3bce8cf",
   "metadata": {},
   "source": [
    "> The next step is loading the dataset we are working on."
   ]
  },
  {
   "cell_type": "code",
   "execution_count": 2,
   "id": "c0fc1261",
   "metadata": {},
   "outputs": [
    {
     "data": {
      "text/html": [
       "<div>\n",
       "<style scoped>\n",
       "    .dataframe tbody tr th:only-of-type {\n",
       "        vertical-align: middle;\n",
       "    }\n",
       "\n",
       "    .dataframe tbody tr th {\n",
       "        vertical-align: top;\n",
       "    }\n",
       "\n",
       "    .dataframe thead th {\n",
       "        text-align: right;\n",
       "    }\n",
       "</style>\n",
       "<table border=\"1\" class=\"dataframe\">\n",
       "  <thead>\n",
       "    <tr style=\"text-align: right;\">\n",
       "      <th></th>\n",
       "      <th>PatientId</th>\n",
       "      <th>AppointmentID</th>\n",
       "      <th>Gender</th>\n",
       "      <th>ScheduledDay</th>\n",
       "      <th>AppointmentDay</th>\n",
       "      <th>Age</th>\n",
       "      <th>Neighbourhood</th>\n",
       "      <th>Scholarship</th>\n",
       "      <th>Hipertension</th>\n",
       "      <th>Diabetes</th>\n",
       "      <th>Alcoholism</th>\n",
       "      <th>Handcap</th>\n",
       "      <th>SMS_received</th>\n",
       "      <th>No-show</th>\n",
       "    </tr>\n",
       "  </thead>\n",
       "  <tbody>\n",
       "    <tr>\n",
       "      <th>0</th>\n",
       "      <td>2.987250e+13</td>\n",
       "      <td>5642903</td>\n",
       "      <td>F</td>\n",
       "      <td>2016-04-29T18:38:08Z</td>\n",
       "      <td>2016-04-29T00:00:00Z</td>\n",
       "      <td>62</td>\n",
       "      <td>JARDIM DA PENHA</td>\n",
       "      <td>0</td>\n",
       "      <td>1</td>\n",
       "      <td>0</td>\n",
       "      <td>0</td>\n",
       "      <td>0</td>\n",
       "      <td>0</td>\n",
       "      <td>No</td>\n",
       "    </tr>\n",
       "    <tr>\n",
       "      <th>1</th>\n",
       "      <td>5.589978e+14</td>\n",
       "      <td>5642503</td>\n",
       "      <td>M</td>\n",
       "      <td>2016-04-29T16:08:27Z</td>\n",
       "      <td>2016-04-29T00:00:00Z</td>\n",
       "      <td>56</td>\n",
       "      <td>JARDIM DA PENHA</td>\n",
       "      <td>0</td>\n",
       "      <td>0</td>\n",
       "      <td>0</td>\n",
       "      <td>0</td>\n",
       "      <td>0</td>\n",
       "      <td>0</td>\n",
       "      <td>No</td>\n",
       "    </tr>\n",
       "    <tr>\n",
       "      <th>2</th>\n",
       "      <td>4.262962e+12</td>\n",
       "      <td>5642549</td>\n",
       "      <td>F</td>\n",
       "      <td>2016-04-29T16:19:04Z</td>\n",
       "      <td>2016-04-29T00:00:00Z</td>\n",
       "      <td>62</td>\n",
       "      <td>MATA DA PRAIA</td>\n",
       "      <td>0</td>\n",
       "      <td>0</td>\n",
       "      <td>0</td>\n",
       "      <td>0</td>\n",
       "      <td>0</td>\n",
       "      <td>0</td>\n",
       "      <td>No</td>\n",
       "    </tr>\n",
       "    <tr>\n",
       "      <th>3</th>\n",
       "      <td>8.679512e+11</td>\n",
       "      <td>5642828</td>\n",
       "      <td>F</td>\n",
       "      <td>2016-04-29T17:29:31Z</td>\n",
       "      <td>2016-04-29T00:00:00Z</td>\n",
       "      <td>8</td>\n",
       "      <td>PONTAL DE CAMBURI</td>\n",
       "      <td>0</td>\n",
       "      <td>0</td>\n",
       "      <td>0</td>\n",
       "      <td>0</td>\n",
       "      <td>0</td>\n",
       "      <td>0</td>\n",
       "      <td>No</td>\n",
       "    </tr>\n",
       "    <tr>\n",
       "      <th>4</th>\n",
       "      <td>8.841186e+12</td>\n",
       "      <td>5642494</td>\n",
       "      <td>F</td>\n",
       "      <td>2016-04-29T16:07:23Z</td>\n",
       "      <td>2016-04-29T00:00:00Z</td>\n",
       "      <td>56</td>\n",
       "      <td>JARDIM DA PENHA</td>\n",
       "      <td>0</td>\n",
       "      <td>1</td>\n",
       "      <td>1</td>\n",
       "      <td>0</td>\n",
       "      <td>0</td>\n",
       "      <td>0</td>\n",
       "      <td>No</td>\n",
       "    </tr>\n",
       "  </tbody>\n",
       "</table>\n",
       "</div>"
      ],
      "text/plain": [
       "      PatientId  AppointmentID Gender          ScheduledDay  \\\n",
       "0  2.987250e+13        5642903      F  2016-04-29T18:38:08Z   \n",
       "1  5.589978e+14        5642503      M  2016-04-29T16:08:27Z   \n",
       "2  4.262962e+12        5642549      F  2016-04-29T16:19:04Z   \n",
       "3  8.679512e+11        5642828      F  2016-04-29T17:29:31Z   \n",
       "4  8.841186e+12        5642494      F  2016-04-29T16:07:23Z   \n",
       "\n",
       "         AppointmentDay  Age      Neighbourhood  Scholarship  Hipertension  \\\n",
       "0  2016-04-29T00:00:00Z   62    JARDIM DA PENHA            0             1   \n",
       "1  2016-04-29T00:00:00Z   56    JARDIM DA PENHA            0             0   \n",
       "2  2016-04-29T00:00:00Z   62      MATA DA PRAIA            0             0   \n",
       "3  2016-04-29T00:00:00Z    8  PONTAL DE CAMBURI            0             0   \n",
       "4  2016-04-29T00:00:00Z   56    JARDIM DA PENHA            0             1   \n",
       "\n",
       "   Diabetes  Alcoholism  Handcap  SMS_received No-show  \n",
       "0         0           0        0             0      No  \n",
       "1         0           0        0             0      No  \n",
       "2         0           0        0             0      No  \n",
       "3         0           0        0             0      No  \n",
       "4         1           0        0             0      No  "
      ]
     },
     "execution_count": 2,
     "metadata": {},
     "output_type": "execute_result"
    }
   ],
   "source": [
    "## Load the data and print out a few lines\n",
    "df = pd.read_csv(r\"C:\\Users\\DIOH\\Downloads\\noshowappointments-kagglev2-may-2016.csv\")\n",
    "\n",
    "df.head()"
   ]
  },
  {
   "cell_type": "markdown",
   "id": "14643529",
   "metadata": {},
   "source": [
    "> Now, we have our dataset, we would like to confirm the number of rows and columns in this dataset"
   ]
  },
  {
   "cell_type": "code",
   "execution_count": 3,
   "id": "969972bf",
   "metadata": {},
   "outputs": [
    {
     "data": {
      "text/plain": [
       "(110527, 14)"
      ]
     },
     "execution_count": 3,
     "metadata": {},
     "output_type": "execute_result"
    }
   ],
   "source": [
    "# Confirming the number of columns and rows\n",
    "df.shape"
   ]
  },
  {
   "cell_type": "markdown",
   "id": "dadc2629",
   "metadata": {},
   "source": [
    "> The next crucial step is to check for errors in our dataset and then fix them. We check for errors like missing values, wrong data types, duplicates, outliers."
   ]
  },
  {
   "cell_type": "code",
   "execution_count": 73,
   "id": "0a2b0092",
   "metadata": {},
   "outputs": [
    {
     "data": {
      "text/plain": [
       "PatientId         float64\n",
       "AppointmentID       int64\n",
       "Gender             object\n",
       "ScheduledDay       object\n",
       "AppointmentDay     object\n",
       "Age                 int64\n",
       "Neighbourhood      object\n",
       "Scholarship         int64\n",
       "Hipertension        int64\n",
       "Diabetes            int64\n",
       "Alcoholism          int64\n",
       "Handcap             int64\n",
       "SMS_received        int64\n",
       "No-show            object\n",
       "dtype: object"
      ]
     },
     "execution_count": 73,
     "metadata": {},
     "output_type": "execute_result"
    }
   ],
   "source": [
    "# Checking for wrong data types \n",
    "\n",
    "df.dtypes"
   ]
  },
  {
   "cell_type": "markdown",
   "id": "6d266d6a",
   "metadata": {},
   "source": [
    "> From the above data, we can see that most of our columns have the correct data types. Except columns like Scheduled Day and Appointment Day. These 2 columns ought to have a datetime date time datatype not the object data type. Hence, we need to fix this. "
   ]
  },
  {
   "cell_type": "code",
   "execution_count": 13,
   "id": "3d6cea3e",
   "metadata": {},
   "outputs": [
    {
     "data": {
      "text/plain": [
       "PatientId         0\n",
       "AppointmentID     0\n",
       "Gender            0\n",
       "ScheduledDay      0\n",
       "AppointmentDay    0\n",
       "Age               0\n",
       "Neighbourhood     0\n",
       "Scholarship       0\n",
       "Hipertension      0\n",
       "Diabetes          0\n",
       "Alcoholism        0\n",
       "Handcap           0\n",
       "SMS_received      0\n",
       "No-show           0\n",
       "dtype: int64"
      ]
     },
     "execution_count": 13,
     "metadata": {},
     "output_type": "execute_result"
    }
   ],
   "source": [
    "# Checking for missing values\n",
    "\n",
    "df.isnull().sum()"
   ]
  },
  {
   "cell_type": "markdown",
   "id": "f0f9753a",
   "metadata": {},
   "source": [
    "> From the above data, we can also see that there are no missing values"
   ]
  },
  {
   "cell_type": "code",
   "execution_count": 16,
   "id": "a0598ca0",
   "metadata": {},
   "outputs": [
    {
     "data": {
      "text/plain": [
       "0"
      ]
     },
     "execution_count": 16,
     "metadata": {},
     "output_type": "execute_result"
    }
   ],
   "source": [
    "# Checking for duplicates\n",
    "\n",
    "df.duplicated().sum()"
   ]
  },
  {
   "cell_type": "markdown",
   "id": "792ccc77",
   "metadata": {},
   "source": [
    "> There are no duplicate values"
   ]
  },
  {
   "cell_type": "markdown",
   "id": "ed9d2b70",
   "metadata": {},
   "source": [
    "## **Data Cleaning**"
   ]
  },
  {
   "cell_type": "markdown",
   "id": "20ccbfcd",
   "metadata": {},
   "source": [
    "> In this step of data cleaning, we fix every error detected, so that these errors do not intefere with our analysis. \n",
    "\n",
    "> Let us start by dropping columns which are not relevant to our analysis."
   ]
  },
  {
   "cell_type": "code",
   "execution_count": 3,
   "id": "798594e8",
   "metadata": {},
   "outputs": [
    {
     "data": {
      "text/html": [
       "<div>\n",
       "<style scoped>\n",
       "    .dataframe tbody tr th:only-of-type {\n",
       "        vertical-align: middle;\n",
       "    }\n",
       "\n",
       "    .dataframe tbody tr th {\n",
       "        vertical-align: top;\n",
       "    }\n",
       "\n",
       "    .dataframe thead th {\n",
       "        text-align: right;\n",
       "    }\n",
       "</style>\n",
       "<table border=\"1\" class=\"dataframe\">\n",
       "  <thead>\n",
       "    <tr style=\"text-align: right;\">\n",
       "      <th></th>\n",
       "      <th>Gender</th>\n",
       "      <th>ScheduledDay</th>\n",
       "      <th>AppointmentDay</th>\n",
       "      <th>Age</th>\n",
       "      <th>Neighbourhood</th>\n",
       "      <th>Scholarship</th>\n",
       "      <th>Hipertension</th>\n",
       "      <th>Diabetes</th>\n",
       "      <th>Alcoholism</th>\n",
       "      <th>Handcap</th>\n",
       "      <th>SMS_received</th>\n",
       "      <th>No-show</th>\n",
       "    </tr>\n",
       "  </thead>\n",
       "  <tbody>\n",
       "    <tr>\n",
       "      <th>0</th>\n",
       "      <td>F</td>\n",
       "      <td>2016-04-29T18:38:08Z</td>\n",
       "      <td>2016-04-29T00:00:00Z</td>\n",
       "      <td>62</td>\n",
       "      <td>JARDIM DA PENHA</td>\n",
       "      <td>0</td>\n",
       "      <td>1</td>\n",
       "      <td>0</td>\n",
       "      <td>0</td>\n",
       "      <td>0</td>\n",
       "      <td>0</td>\n",
       "      <td>No</td>\n",
       "    </tr>\n",
       "  </tbody>\n",
       "</table>\n",
       "</div>"
      ],
      "text/plain": [
       "  Gender          ScheduledDay        AppointmentDay  Age    Neighbourhood  \\\n",
       "0      F  2016-04-29T18:38:08Z  2016-04-29T00:00:00Z   62  JARDIM DA PENHA   \n",
       "\n",
       "   Scholarship  Hipertension  Diabetes  Alcoholism  Handcap  SMS_received  \\\n",
       "0            0             1         0           0        0             0   \n",
       "\n",
       "  No-show  \n",
       "0      No  "
      ]
     },
     "execution_count": 3,
     "metadata": {},
     "output_type": "execute_result"
    }
   ],
   "source": [
    "# drop columns not relevant to us from this dataset\n",
    "df.drop(['PatientId', 'AppointmentID'], axis=1, inplace=True)\n",
    "\n",
    "# confirm changes\n",
    "df.head(1)"
   ]
  },
  {
   "cell_type": "markdown",
   "id": "a8bc32eb",
   "metadata": {},
   "source": [
    "> Once, we drop these columns,we can also run a check on our dataset, to confirm our rows and columns. Initially we had 14 columns, we just dropped 2 columns, so we are exepceted to have 12 columns now."
   ]
  },
  {
   "cell_type": "code",
   "execution_count": 4,
   "id": "1c7dc101",
   "metadata": {},
   "outputs": [
    {
     "data": {
      "text/plain": [
       "(110527, 12)"
      ]
     },
     "execution_count": 4,
     "metadata": {},
     "output_type": "execute_result"
    }
   ],
   "source": [
    "# Confirming the rows and columns\n",
    "df.shape"
   ]
  },
  {
   "cell_type": "markdown",
   "id": "0c62c02f",
   "metadata": {},
   "source": [
    "> We can also rename some of our column names with 2 letter word to a proper code standard names by adding an underscore between these 2 words."
   ]
  },
  {
   "cell_type": "code",
   "execution_count": 5,
   "id": "e454893d",
   "metadata": {},
   "outputs": [
    {
     "data": {
      "text/html": [
       "<div>\n",
       "<style scoped>\n",
       "    .dataframe tbody tr th:only-of-type {\n",
       "        vertical-align: middle;\n",
       "    }\n",
       "\n",
       "    .dataframe tbody tr th {\n",
       "        vertical-align: top;\n",
       "    }\n",
       "\n",
       "    .dataframe thead th {\n",
       "        text-align: right;\n",
       "    }\n",
       "</style>\n",
       "<table border=\"1\" class=\"dataframe\">\n",
       "  <thead>\n",
       "    <tr style=\"text-align: right;\">\n",
       "      <th></th>\n",
       "      <th>Gender</th>\n",
       "      <th>Scheduled_Day</th>\n",
       "      <th>Appointment_Day</th>\n",
       "      <th>Age</th>\n",
       "      <th>Neighbourhood</th>\n",
       "      <th>Scholarship</th>\n",
       "      <th>Hipertension</th>\n",
       "      <th>Diabetes</th>\n",
       "      <th>Alcoholism</th>\n",
       "      <th>Handicap</th>\n",
       "      <th>SMS_received</th>\n",
       "      <th>No_show</th>\n",
       "    </tr>\n",
       "  </thead>\n",
       "  <tbody>\n",
       "    <tr>\n",
       "      <th>0</th>\n",
       "      <td>F</td>\n",
       "      <td>2016-04-29T18:38:08Z</td>\n",
       "      <td>2016-04-29T00:00:00Z</td>\n",
       "      <td>62</td>\n",
       "      <td>JARDIM DA PENHA</td>\n",
       "      <td>0</td>\n",
       "      <td>1</td>\n",
       "      <td>0</td>\n",
       "      <td>0</td>\n",
       "      <td>0</td>\n",
       "      <td>0</td>\n",
       "      <td>No</td>\n",
       "    </tr>\n",
       "  </tbody>\n",
       "</table>\n",
       "</div>"
      ],
      "text/plain": [
       "  Gender         Scheduled_Day       Appointment_Day  Age    Neighbourhood  \\\n",
       "0      F  2016-04-29T18:38:08Z  2016-04-29T00:00:00Z   62  JARDIM DA PENHA   \n",
       "\n",
       "   Scholarship  Hipertension  Diabetes  Alcoholism  Handicap  SMS_received  \\\n",
       "0            0             1         0           0         0             0   \n",
       "\n",
       "  No_show  \n",
       "0      No  "
      ]
     },
     "execution_count": 5,
     "metadata": {},
     "output_type": "execute_result"
    }
   ],
   "source": [
    "# renaming columns\n",
    "df.rename(columns={'ScheduledDay' : 'Scheduled_Day', 'AppointmentDay' : 'Appointment_Day', 'No-show' : 'No_show', 'Handcap' : 'Handicap'}, inplace=True)\n",
    "\n",
    "# confirming changes\n",
    "df.head(1)"
   ]
  },
  {
   "cell_type": "markdown",
   "id": "229c67c9",
   "metadata": {},
   "source": [
    "> Now we can fix our data types errors namely Scheduled day and Appointment day having an object datatype, we fix them by converting their data type to a datetime data type. "
   ]
  },
  {
   "cell_type": "code",
   "execution_count": 6,
   "id": "407afaa4",
   "metadata": {},
   "outputs": [
    {
     "data": {
      "text/html": [
       "<div>\n",
       "<style scoped>\n",
       "    .dataframe tbody tr th:only-of-type {\n",
       "        vertical-align: middle;\n",
       "    }\n",
       "\n",
       "    .dataframe tbody tr th {\n",
       "        vertical-align: top;\n",
       "    }\n",
       "\n",
       "    .dataframe thead th {\n",
       "        text-align: right;\n",
       "    }\n",
       "</style>\n",
       "<table border=\"1\" class=\"dataframe\">\n",
       "  <thead>\n",
       "    <tr style=\"text-align: right;\">\n",
       "      <th></th>\n",
       "      <th>Gender</th>\n",
       "      <th>Scheduled_Day</th>\n",
       "      <th>Appointment_Day</th>\n",
       "      <th>Age</th>\n",
       "      <th>Neighbourhood</th>\n",
       "      <th>Scholarship</th>\n",
       "      <th>Hipertension</th>\n",
       "      <th>Diabetes</th>\n",
       "      <th>Alcoholism</th>\n",
       "      <th>Handicap</th>\n",
       "      <th>SMS_received</th>\n",
       "      <th>No_show</th>\n",
       "    </tr>\n",
       "  </thead>\n",
       "  <tbody>\n",
       "    <tr>\n",
       "      <th>0</th>\n",
       "      <td>F</td>\n",
       "      <td>2016-04-29 18:38:08+00:00</td>\n",
       "      <td>2016-04-29T00:00:00Z</td>\n",
       "      <td>62</td>\n",
       "      <td>JARDIM DA PENHA</td>\n",
       "      <td>0</td>\n",
       "      <td>1</td>\n",
       "      <td>0</td>\n",
       "      <td>0</td>\n",
       "      <td>0</td>\n",
       "      <td>0</td>\n",
       "      <td>No</td>\n",
       "    </tr>\n",
       "  </tbody>\n",
       "</table>\n",
       "</div>"
      ],
      "text/plain": [
       "  Gender             Scheduled_Day       Appointment_Day  Age  \\\n",
       "0      F 2016-04-29 18:38:08+00:00  2016-04-29T00:00:00Z   62   \n",
       "\n",
       "     Neighbourhood  Scholarship  Hipertension  Diabetes  Alcoholism  Handicap  \\\n",
       "0  JARDIM DA PENHA            0             1         0           0         0   \n",
       "\n",
       "   SMS_received No_show  \n",
       "0             0      No  "
      ]
     },
     "execution_count": 6,
     "metadata": {},
     "output_type": "execute_result"
    }
   ],
   "source": [
    "# fixing our datatype\n",
    "df['Scheduled_Day'] = pd.to_datetime(df['Scheduled_Day'])\n",
    "\n",
    "#confirming changes\n",
    "df.head(1)"
   ]
  },
  {
   "cell_type": "code",
   "execution_count": 78,
   "id": "e169325c",
   "metadata": {},
   "outputs": [
    {
     "data": {
      "text/html": [
       "<div>\n",
       "<style scoped>\n",
       "    .dataframe tbody tr th:only-of-type {\n",
       "        vertical-align: middle;\n",
       "    }\n",
       "\n",
       "    .dataframe tbody tr th {\n",
       "        vertical-align: top;\n",
       "    }\n",
       "\n",
       "    .dataframe thead th {\n",
       "        text-align: right;\n",
       "    }\n",
       "</style>\n",
       "<table border=\"1\" class=\"dataframe\">\n",
       "  <thead>\n",
       "    <tr style=\"text-align: right;\">\n",
       "      <th></th>\n",
       "      <th>Gender</th>\n",
       "      <th>Scheduled_Day</th>\n",
       "      <th>Appointment_Day</th>\n",
       "      <th>Age</th>\n",
       "      <th>Neighbourhood</th>\n",
       "      <th>Scholarship</th>\n",
       "      <th>Hipertension</th>\n",
       "      <th>Diabetes</th>\n",
       "      <th>Alcoholism</th>\n",
       "      <th>Handicap</th>\n",
       "      <th>SMS_received</th>\n",
       "      <th>No_show</th>\n",
       "    </tr>\n",
       "  </thead>\n",
       "  <tbody>\n",
       "    <tr>\n",
       "      <th>0</th>\n",
       "      <td>F</td>\n",
       "      <td>2016-04-29 18:38:08+00:00</td>\n",
       "      <td>2016-04-29 00:00:00+00:00</td>\n",
       "      <td>62</td>\n",
       "      <td>JARDIM DA PENHA</td>\n",
       "      <td>0</td>\n",
       "      <td>1</td>\n",
       "      <td>0</td>\n",
       "      <td>0</td>\n",
       "      <td>0</td>\n",
       "      <td>0</td>\n",
       "      <td>No</td>\n",
       "    </tr>\n",
       "  </tbody>\n",
       "</table>\n",
       "</div>"
      ],
      "text/plain": [
       "  Gender             Scheduled_Day           Appointment_Day  Age  \\\n",
       "0      F 2016-04-29 18:38:08+00:00 2016-04-29 00:00:00+00:00   62   \n",
       "\n",
       "     Neighbourhood  Scholarship  Hipertension  Diabetes  Alcoholism  Handicap  \\\n",
       "0  JARDIM DA PENHA            0             1         0           0         0   \n",
       "\n",
       "   SMS_received No_show  \n",
       "0             0      No  "
      ]
     },
     "execution_count": 78,
     "metadata": {},
     "output_type": "execute_result"
    }
   ],
   "source": [
    "# fixing our datatype\n",
    "df['Appointment_Day'] = pd.to_datetime(df['Appointment_Day'])\n",
    "\n",
    "# confirming changes\n",
    "df.head(1)"
   ]
  },
  {
   "cell_type": "code",
   "execution_count": 79,
   "id": "22b03fea",
   "metadata": {},
   "outputs": [
    {
     "data": {
      "text/plain": [
       "Gender                          object\n",
       "Scheduled_Day      datetime64[ns, UTC]\n",
       "Appointment_Day    datetime64[ns, UTC]\n",
       "Age                              int64\n",
       "Neighbourhood                   object\n",
       "Scholarship                      int64\n",
       "Hipertension                     int64\n",
       "Diabetes                         int64\n",
       "Alcoholism                       int64\n",
       "Handicap                         int64\n",
       "SMS_received                     int64\n",
       "No_show                         object\n",
       "dtype: object"
      ]
     },
     "execution_count": 79,
     "metadata": {},
     "output_type": "execute_result"
    }
   ],
   "source": [
    "#confirming that the datatypes has been fixed\n",
    "\n",
    "df.dtypes"
   ]
  },
  {
   "cell_type": "markdown",
   "id": "814a1903",
   "metadata": {},
   "source": [
    "> We can further access our data by looking at the descripitive statisics of the dataset to have a clearer understanding of the datset we are working on."
   ]
  },
  {
   "cell_type": "code",
   "execution_count": 14,
   "id": "c7bce39a",
   "metadata": {},
   "outputs": [
    {
     "data": {
      "text/html": [
       "<div>\n",
       "<style scoped>\n",
       "    .dataframe tbody tr th:only-of-type {\n",
       "        vertical-align: middle;\n",
       "    }\n",
       "\n",
       "    .dataframe tbody tr th {\n",
       "        vertical-align: top;\n",
       "    }\n",
       "\n",
       "    .dataframe thead th {\n",
       "        text-align: right;\n",
       "    }\n",
       "</style>\n",
       "<table border=\"1\" class=\"dataframe\">\n",
       "  <thead>\n",
       "    <tr style=\"text-align: right;\">\n",
       "      <th></th>\n",
       "      <th>Age</th>\n",
       "      <th>Scholarship</th>\n",
       "      <th>Hipertension</th>\n",
       "      <th>Diabetes</th>\n",
       "      <th>Alcoholism</th>\n",
       "      <th>Handicap</th>\n",
       "      <th>SMS_received</th>\n",
       "    </tr>\n",
       "  </thead>\n",
       "  <tbody>\n",
       "    <tr>\n",
       "      <th>count</th>\n",
       "      <td>110527.000000</td>\n",
       "      <td>110527.000000</td>\n",
       "      <td>110527.000000</td>\n",
       "      <td>110527.000000</td>\n",
       "      <td>110527.000000</td>\n",
       "      <td>110527.000000</td>\n",
       "      <td>110527.000000</td>\n",
       "    </tr>\n",
       "    <tr>\n",
       "      <th>mean</th>\n",
       "      <td>37.088874</td>\n",
       "      <td>0.098266</td>\n",
       "      <td>0.197246</td>\n",
       "      <td>0.071865</td>\n",
       "      <td>0.030400</td>\n",
       "      <td>0.022248</td>\n",
       "      <td>0.321026</td>\n",
       "    </tr>\n",
       "    <tr>\n",
       "      <th>std</th>\n",
       "      <td>23.110205</td>\n",
       "      <td>0.297675</td>\n",
       "      <td>0.397921</td>\n",
       "      <td>0.258265</td>\n",
       "      <td>0.171686</td>\n",
       "      <td>0.161543</td>\n",
       "      <td>0.466873</td>\n",
       "    </tr>\n",
       "    <tr>\n",
       "      <th>min</th>\n",
       "      <td>-1.000000</td>\n",
       "      <td>0.000000</td>\n",
       "      <td>0.000000</td>\n",
       "      <td>0.000000</td>\n",
       "      <td>0.000000</td>\n",
       "      <td>0.000000</td>\n",
       "      <td>0.000000</td>\n",
       "    </tr>\n",
       "    <tr>\n",
       "      <th>25%</th>\n",
       "      <td>18.000000</td>\n",
       "      <td>0.000000</td>\n",
       "      <td>0.000000</td>\n",
       "      <td>0.000000</td>\n",
       "      <td>0.000000</td>\n",
       "      <td>0.000000</td>\n",
       "      <td>0.000000</td>\n",
       "    </tr>\n",
       "    <tr>\n",
       "      <th>50%</th>\n",
       "      <td>37.000000</td>\n",
       "      <td>0.000000</td>\n",
       "      <td>0.000000</td>\n",
       "      <td>0.000000</td>\n",
       "      <td>0.000000</td>\n",
       "      <td>0.000000</td>\n",
       "      <td>0.000000</td>\n",
       "    </tr>\n",
       "    <tr>\n",
       "      <th>75%</th>\n",
       "      <td>55.000000</td>\n",
       "      <td>0.000000</td>\n",
       "      <td>0.000000</td>\n",
       "      <td>0.000000</td>\n",
       "      <td>0.000000</td>\n",
       "      <td>0.000000</td>\n",
       "      <td>1.000000</td>\n",
       "    </tr>\n",
       "    <tr>\n",
       "      <th>max</th>\n",
       "      <td>115.000000</td>\n",
       "      <td>1.000000</td>\n",
       "      <td>1.000000</td>\n",
       "      <td>1.000000</td>\n",
       "      <td>1.000000</td>\n",
       "      <td>4.000000</td>\n",
       "      <td>1.000000</td>\n",
       "    </tr>\n",
       "  </tbody>\n",
       "</table>\n",
       "</div>"
      ],
      "text/plain": [
       "                 Age    Scholarship   Hipertension       Diabetes  \\\n",
       "count  110527.000000  110527.000000  110527.000000  110527.000000   \n",
       "mean       37.088874       0.098266       0.197246       0.071865   \n",
       "std        23.110205       0.297675       0.397921       0.258265   \n",
       "min        -1.000000       0.000000       0.000000       0.000000   \n",
       "25%        18.000000       0.000000       0.000000       0.000000   \n",
       "50%        37.000000       0.000000       0.000000       0.000000   \n",
       "75%        55.000000       0.000000       0.000000       0.000000   \n",
       "max       115.000000       1.000000       1.000000       1.000000   \n",
       "\n",
       "          Alcoholism       Handicap   SMS_received  \n",
       "count  110527.000000  110527.000000  110527.000000  \n",
       "mean        0.030400       0.022248       0.321026  \n",
       "std         0.171686       0.161543       0.466873  \n",
       "min         0.000000       0.000000       0.000000  \n",
       "25%         0.000000       0.000000       0.000000  \n",
       "50%         0.000000       0.000000       0.000000  \n",
       "75%         0.000000       0.000000       1.000000  \n",
       "max         1.000000       4.000000       1.000000  "
      ]
     },
     "execution_count": 14,
     "metadata": {},
     "output_type": "execute_result"
    }
   ],
   "source": [
    "# Descriptive Statistics for each column of data\n",
    "\n",
    "df.describe()"
   ]
  },
  {
   "cell_type": "markdown",
   "id": "6edb1bc0",
   "metadata": {},
   "source": [
    "> For the purpose of this analysis, i will be picking out the No_show column as my column of interest. \n",
    "\n",
    "> I would like to check the unique values in this column. "
   ]
  },
  {
   "cell_type": "code",
   "execution_count": 8,
   "id": "623e8367",
   "metadata": {},
   "outputs": [
    {
     "data": {
      "text/plain": [
       "array(['No', 'Yes'], dtype=object)"
      ]
     },
     "execution_count": 8,
     "metadata": {},
     "output_type": "execute_result"
    }
   ],
   "source": [
    "#this returns the unique values in the No_show column\n",
    "\n",
    "df['No_show'].unique()"
   ]
  },
  {
   "cell_type": "markdown",
   "id": "646599fc",
   "metadata": {},
   "source": [
    "> From this output, its a either a Yes or No. so its either the patient showed up to the appointment represented by a 'NO' or the patient did not show up reperesented by a 'Yes'.\n",
    "\n",
    "> So, lets find out the number of patients that showed up and the ones that didn't show up."
   ]
  },
  {
   "cell_type": "code",
   "execution_count": 27,
   "id": "01c834b1",
   "metadata": {},
   "outputs": [
    {
     "data": {
      "text/plain": [
       "No     88208\n",
       "Yes    22319\n",
       "Name: No_show, dtype: int64"
      ]
     },
     "execution_count": 27,
     "metadata": {},
     "output_type": "execute_result"
    }
   ],
   "source": [
    "# this counts the number of Yes and No in the No_show column\n",
    "\n",
    "df['No_show'].value_counts()"
   ]
  },
  {
   "cell_type": "markdown",
   "id": "9f95c80e",
   "metadata": {},
   "source": [
    "> Now, that we know the number of persons that showed up or did not show up. We can filter our dataset to reflect only those who did not show up for their appointment. Since they are our patients of interest in this analysis. We will call this dataframe 'Did_Not_Show_up'."
   ]
  },
  {
   "cell_type": "code",
   "execution_count": 7,
   "id": "4bcd4fdf",
   "metadata": {},
   "outputs": [
    {
     "data": {
      "text/html": [
       "<div>\n",
       "<style scoped>\n",
       "    .dataframe tbody tr th:only-of-type {\n",
       "        vertical-align: middle;\n",
       "    }\n",
       "\n",
       "    .dataframe tbody tr th {\n",
       "        vertical-align: top;\n",
       "    }\n",
       "\n",
       "    .dataframe thead th {\n",
       "        text-align: right;\n",
       "    }\n",
       "</style>\n",
       "<table border=\"1\" class=\"dataframe\">\n",
       "  <thead>\n",
       "    <tr style=\"text-align: right;\">\n",
       "      <th></th>\n",
       "      <th>Gender</th>\n",
       "      <th>Scheduled_Day</th>\n",
       "      <th>Appointment_Day</th>\n",
       "      <th>Age</th>\n",
       "      <th>Neighbourhood</th>\n",
       "      <th>Scholarship</th>\n",
       "      <th>Hipertension</th>\n",
       "      <th>Diabetes</th>\n",
       "      <th>Alcoholism</th>\n",
       "      <th>Handicap</th>\n",
       "      <th>SMS_received</th>\n",
       "      <th>No_show</th>\n",
       "    </tr>\n",
       "  </thead>\n",
       "  <tbody>\n",
       "    <tr>\n",
       "      <th>6</th>\n",
       "      <td>F</td>\n",
       "      <td>2016-04-27 15:05:12+00:00</td>\n",
       "      <td>2016-04-29T00:00:00Z</td>\n",
       "      <td>23</td>\n",
       "      <td>GOIABEIRAS</td>\n",
       "      <td>0</td>\n",
       "      <td>0</td>\n",
       "      <td>0</td>\n",
       "      <td>0</td>\n",
       "      <td>0</td>\n",
       "      <td>0</td>\n",
       "      <td>Yes</td>\n",
       "    </tr>\n",
       "    <tr>\n",
       "      <th>7</th>\n",
       "      <td>F</td>\n",
       "      <td>2016-04-27 15:39:58+00:00</td>\n",
       "      <td>2016-04-29T00:00:00Z</td>\n",
       "      <td>39</td>\n",
       "      <td>GOIABEIRAS</td>\n",
       "      <td>0</td>\n",
       "      <td>0</td>\n",
       "      <td>0</td>\n",
       "      <td>0</td>\n",
       "      <td>0</td>\n",
       "      <td>0</td>\n",
       "      <td>Yes</td>\n",
       "    </tr>\n",
       "    <tr>\n",
       "      <th>11</th>\n",
       "      <td>M</td>\n",
       "      <td>2016-04-26 08:44:12+00:00</td>\n",
       "      <td>2016-04-29T00:00:00Z</td>\n",
       "      <td>29</td>\n",
       "      <td>NOVA PALESTINA</td>\n",
       "      <td>0</td>\n",
       "      <td>0</td>\n",
       "      <td>0</td>\n",
       "      <td>0</td>\n",
       "      <td>0</td>\n",
       "      <td>1</td>\n",
       "      <td>Yes</td>\n",
       "    </tr>\n",
       "    <tr>\n",
       "      <th>17</th>\n",
       "      <td>F</td>\n",
       "      <td>2016-04-28 09:28:57+00:00</td>\n",
       "      <td>2016-04-29T00:00:00Z</td>\n",
       "      <td>40</td>\n",
       "      <td>CONQUISTA</td>\n",
       "      <td>1</td>\n",
       "      <td>0</td>\n",
       "      <td>0</td>\n",
       "      <td>0</td>\n",
       "      <td>0</td>\n",
       "      <td>0</td>\n",
       "      <td>Yes</td>\n",
       "    </tr>\n",
       "    <tr>\n",
       "      <th>20</th>\n",
       "      <td>F</td>\n",
       "      <td>2016-04-27 07:51:14+00:00</td>\n",
       "      <td>2016-04-29T00:00:00Z</td>\n",
       "      <td>30</td>\n",
       "      <td>NOVA PALESTINA</td>\n",
       "      <td>0</td>\n",
       "      <td>0</td>\n",
       "      <td>0</td>\n",
       "      <td>0</td>\n",
       "      <td>0</td>\n",
       "      <td>0</td>\n",
       "      <td>Yes</td>\n",
       "    </tr>\n",
       "  </tbody>\n",
       "</table>\n",
       "</div>"
      ],
      "text/plain": [
       "   Gender             Scheduled_Day       Appointment_Day  Age  \\\n",
       "6       F 2016-04-27 15:05:12+00:00  2016-04-29T00:00:00Z   23   \n",
       "7       F 2016-04-27 15:39:58+00:00  2016-04-29T00:00:00Z   39   \n",
       "11      M 2016-04-26 08:44:12+00:00  2016-04-29T00:00:00Z   29   \n",
       "17      F 2016-04-28 09:28:57+00:00  2016-04-29T00:00:00Z   40   \n",
       "20      F 2016-04-27 07:51:14+00:00  2016-04-29T00:00:00Z   30   \n",
       "\n",
       "     Neighbourhood  Scholarship  Hipertension  Diabetes  Alcoholism  Handicap  \\\n",
       "6       GOIABEIRAS            0             0         0           0         0   \n",
       "7       GOIABEIRAS            0             0         0           0         0   \n",
       "11  NOVA PALESTINA            0             0         0           0         0   \n",
       "17       CONQUISTA            1             0         0           0         0   \n",
       "20  NOVA PALESTINA            0             0         0           0         0   \n",
       "\n",
       "    SMS_received No_show  \n",
       "6              0     Yes  \n",
       "7              0     Yes  \n",
       "11             1     Yes  \n",
       "17             0     Yes  \n",
       "20             0     Yes  "
      ]
     },
     "execution_count": 7,
     "metadata": {},
     "output_type": "execute_result"
    }
   ],
   "source": [
    "# filtering and creating a dataframe to reflect only the YES in the No_show column\n",
    "\n",
    "Did_Not_show_up = df[df['No_show'] == 'Yes']\n",
    "\n",
    "# confirming changes\n",
    "Did_Not_show_up.head()\n",
    "\n"
   ]
  },
  {
   "cell_type": "markdown",
   "id": "92479512",
   "metadata": {},
   "source": [
    "> Now we have a dataframe showing us ONLY those that did not show up for the apppointment\n",
    "\n",
    "\n",
    "> We can now now access our new dataframe, checking its descriptive statistics, rows and columns."
   ]
  },
  {
   "cell_type": "code",
   "execution_count": 16,
   "id": "af739d57",
   "metadata": {},
   "outputs": [
    {
     "data": {
      "text/html": [
       "<div>\n",
       "<style scoped>\n",
       "    .dataframe tbody tr th:only-of-type {\n",
       "        vertical-align: middle;\n",
       "    }\n",
       "\n",
       "    .dataframe tbody tr th {\n",
       "        vertical-align: top;\n",
       "    }\n",
       "\n",
       "    .dataframe thead th {\n",
       "        text-align: right;\n",
       "    }\n",
       "</style>\n",
       "<table border=\"1\" class=\"dataframe\">\n",
       "  <thead>\n",
       "    <tr style=\"text-align: right;\">\n",
       "      <th></th>\n",
       "      <th>Age</th>\n",
       "      <th>Scholarship</th>\n",
       "      <th>Hipertension</th>\n",
       "      <th>Diabetes</th>\n",
       "      <th>Alcoholism</th>\n",
       "      <th>Handicap</th>\n",
       "      <th>SMS_received</th>\n",
       "    </tr>\n",
       "  </thead>\n",
       "  <tbody>\n",
       "    <tr>\n",
       "      <th>count</th>\n",
       "      <td>22319.000000</td>\n",
       "      <td>22319.000000</td>\n",
       "      <td>22319.000000</td>\n",
       "      <td>22319.000000</td>\n",
       "      <td>22319.000000</td>\n",
       "      <td>22319.000000</td>\n",
       "      <td>22319.000000</td>\n",
       "    </tr>\n",
       "    <tr>\n",
       "      <th>mean</th>\n",
       "      <td>34.317667</td>\n",
       "      <td>0.115507</td>\n",
       "      <td>0.169004</td>\n",
       "      <td>0.064071</td>\n",
       "      <td>0.030333</td>\n",
       "      <td>0.020297</td>\n",
       "      <td>0.438371</td>\n",
       "    </tr>\n",
       "    <tr>\n",
       "      <th>std</th>\n",
       "      <td>21.965941</td>\n",
       "      <td>0.319640</td>\n",
       "      <td>0.374764</td>\n",
       "      <td>0.244885</td>\n",
       "      <td>0.171505</td>\n",
       "      <td>0.156670</td>\n",
       "      <td>0.496198</td>\n",
       "    </tr>\n",
       "    <tr>\n",
       "      <th>min</th>\n",
       "      <td>0.000000</td>\n",
       "      <td>0.000000</td>\n",
       "      <td>0.000000</td>\n",
       "      <td>0.000000</td>\n",
       "      <td>0.000000</td>\n",
       "      <td>0.000000</td>\n",
       "      <td>0.000000</td>\n",
       "    </tr>\n",
       "    <tr>\n",
       "      <th>25%</th>\n",
       "      <td>16.000000</td>\n",
       "      <td>0.000000</td>\n",
       "      <td>0.000000</td>\n",
       "      <td>0.000000</td>\n",
       "      <td>0.000000</td>\n",
       "      <td>0.000000</td>\n",
       "      <td>0.000000</td>\n",
       "    </tr>\n",
       "    <tr>\n",
       "      <th>50%</th>\n",
       "      <td>33.000000</td>\n",
       "      <td>0.000000</td>\n",
       "      <td>0.000000</td>\n",
       "      <td>0.000000</td>\n",
       "      <td>0.000000</td>\n",
       "      <td>0.000000</td>\n",
       "      <td>0.000000</td>\n",
       "    </tr>\n",
       "    <tr>\n",
       "      <th>75%</th>\n",
       "      <td>51.000000</td>\n",
       "      <td>0.000000</td>\n",
       "      <td>0.000000</td>\n",
       "      <td>0.000000</td>\n",
       "      <td>0.000000</td>\n",
       "      <td>0.000000</td>\n",
       "      <td>1.000000</td>\n",
       "    </tr>\n",
       "    <tr>\n",
       "      <th>max</th>\n",
       "      <td>115.000000</td>\n",
       "      <td>1.000000</td>\n",
       "      <td>1.000000</td>\n",
       "      <td>1.000000</td>\n",
       "      <td>1.000000</td>\n",
       "      <td>4.000000</td>\n",
       "      <td>1.000000</td>\n",
       "    </tr>\n",
       "  </tbody>\n",
       "</table>\n",
       "</div>"
      ],
      "text/plain": [
       "                Age   Scholarship  Hipertension      Diabetes    Alcoholism  \\\n",
       "count  22319.000000  22319.000000  22319.000000  22319.000000  22319.000000   \n",
       "mean      34.317667      0.115507      0.169004      0.064071      0.030333   \n",
       "std       21.965941      0.319640      0.374764      0.244885      0.171505   \n",
       "min        0.000000      0.000000      0.000000      0.000000      0.000000   \n",
       "25%       16.000000      0.000000      0.000000      0.000000      0.000000   \n",
       "50%       33.000000      0.000000      0.000000      0.000000      0.000000   \n",
       "75%       51.000000      0.000000      0.000000      0.000000      0.000000   \n",
       "max      115.000000      1.000000      1.000000      1.000000      1.000000   \n",
       "\n",
       "           Handicap  SMS_received  \n",
       "count  22319.000000  22319.000000  \n",
       "mean       0.020297      0.438371  \n",
       "std        0.156670      0.496198  \n",
       "min        0.000000      0.000000  \n",
       "25%        0.000000      0.000000  \n",
       "50%        0.000000      0.000000  \n",
       "75%        0.000000      1.000000  \n",
       "max        4.000000      1.000000  "
      ]
     },
     "execution_count": 16,
     "metadata": {},
     "output_type": "execute_result"
    }
   ],
   "source": [
    "# Descriptive Statistics for each column of data\n",
    "\n",
    "Did_Not_show_up.describe()"
   ]
  },
  {
   "cell_type": "code",
   "execution_count": 9,
   "id": "dbe330b6",
   "metadata": {},
   "outputs": [
    {
     "data": {
      "text/plain": [
       "(22319, 12)"
      ]
     },
     "execution_count": 9,
     "metadata": {},
     "output_type": "execute_result"
    }
   ],
   "source": [
    "# checking the rows and columns\n",
    "\n",
    "Did_Not_show_up.shape"
   ]
  },
  {
   "cell_type": "markdown",
   "id": "43fd0fb2",
   "metadata": {},
   "source": [
    "> Now that we are done fixing and accessing our data, we can proceed with our Data Exploration."
   ]
  },
  {
   "cell_type": "markdown",
   "id": "b5da3f32",
   "metadata": {},
   "source": [
    "## **Exploratory Data Analysis**"
   ]
  },
  {
   "cell_type": "markdown",
   "id": "5451033e",
   "metadata": {},
   "source": [
    "#**Question 1: Could SMS received be a contributing factor to people not showing up to the appointement? How?**\n",
    "\n",
    "> Solution: Let's check out if everyone received the sms"
   ]
  },
  {
   "cell_type": "code",
   "execution_count": 80,
   "id": "f92d1a30",
   "metadata": {},
   "outputs": [
    {
     "data": {
      "text/plain": [
       "array([0, 1], dtype=int64)"
      ]
     },
     "execution_count": 80,
     "metadata": {},
     "output_type": "execute_result"
    }
   ],
   "source": [
    "# this returns the unique values in the SMS_received column\n",
    "\n",
    "Did_Not_show_up['SMS_received'].unique()"
   ]
  },
  {
   "cell_type": "code",
   "execution_count": 33,
   "id": "9213b214",
   "metadata": {},
   "outputs": [
    {
     "data": {
      "text/plain": [
       "0    12535\n",
       "1     9784\n",
       "Name: SMS_received, dtype: int64"
      ]
     },
     "execution_count": 33,
     "metadata": {},
     "output_type": "execute_result"
    }
   ],
   "source": [
    "# number of persons that received or did not receive sms\n",
    "Did_Not_show_up['SMS_received'].value_counts()"
   ]
  },
  {
   "cell_type": "code",
   "execution_count": 13,
   "id": "cb62f626",
   "metadata": {},
   "outputs": [
    {
     "data": {
      "image/png": "[encoded data removed]",
      "text/plain": [
       "<Figure size 432x288 with 1 Axes>"
      ]
     },
     "metadata": {
      "needs_background": "light"
     },
     "output_type": "display_data"
    }
   ],
   "source": [
    "# A clear distribution of those that receievd the sms versus those that didn't\n",
    "\n",
    "Did_Not_show_up['SMS_received'].plot(kind='hist', xlabel= 'SMS Received', ylabel= 'No. of patients', title= 'SMS Received Distribution');"
   ]
  },
  {
   "cell_type": "markdown",
   "id": "c42458f5",
   "metadata": {},
   "source": [
    "> The above histogram clealrly shows a distribution of sms received by the patients. Here we can see that a greater number of the patients did not receive the sms. "
   ]
  },
  {
   "cell_type": "code",
   "execution_count": 12,
   "id": "ceed5528",
   "metadata": {},
   "outputs": [
    {
     "data": {
      "image/png": "[encoded data removed]",
      "text/plain": [
       "<Figure size 432x288 with 1 Axes>"
      ]
     },
     "metadata": {
      "needs_background": "light"
     },
     "output_type": "display_data"
    }
   ],
   "source": [
    "# Let's visualise our findings using a barchart\n",
    "\n",
    "\n",
    "Did_Not_show_up['SMS_received'].value_counts().plot(kind='bar', xlabel= 'SMS Received', ylabel= 'No. of patients', title= 'SMS Received plot');"
   ]
  },
  {
   "cell_type": "markdown",
   "id": "68083a49",
   "metadata": {},
   "source": [
    "> Our barchart here also clearly show us that 12000 and more patients which appears to be a greater number of the patient population did not receive the sms. Which in turn contributed to the patients not showing up to their appointments."
   ]
  },
  {
   "cell_type": "markdown",
   "id": "f30c0827",
   "metadata": {},
   "source": [
    "#**Question 2: Being handicap can actual be a great reason why some persons may not show up, Do we have a lot of handicaps?**\n",
    "\n",
    "> Solution: Analyse the handicap column"
   ]
  },
  {
   "cell_type": "code",
   "execution_count": 52,
   "id": "248dd4a6",
   "metadata": {},
   "outputs": [
    {
     "data": {
      "text/plain": [
       "0    21912\n",
       "1      366\n",
       "2       37\n",
       "3        3\n",
       "4        1\n",
       "Name: Handicap, dtype: int64"
      ]
     },
     "execution_count": 52,
     "metadata": {},
     "output_type": "execute_result"
    }
   ],
   "source": [
    "# checking the number of those that are handicapped and those that are not.\n",
    "\n",
    "Did_Not_show_up['Handicap'].value_counts()"
   ]
  },
  {
   "cell_type": "code",
   "execution_count": 19,
   "id": "4897b2bf",
   "metadata": {},
   "outputs": [
    {
     "data": {
      "image/png": "[encoded data removed]",
      "text/plain": [
       "<Figure size 432x288 with 1 Axes>"
      ]
     },
     "metadata": {
      "needs_background": "light"
     },
     "output_type": "display_data"
    }
   ],
   "source": [
    "# plotting a bar chart to show us the proportion of persons handicpped and those that are not.\n",
    "\n",
    "Did_Not_show_up['Handicap'].value_counts().plot(kind='bar', xlabel= 'Handicap', ylabel= 'No.of patients', title= 'Handicap Distribution');"
   ]
  },
  {
   "cell_type": "markdown",
   "id": "184cdb59",
   "metadata": {},
   "source": [
    "> This bar chart clearly shows that most persons are Not handicaped, but a minute number of the patient population are handicapped."
   ]
  },
  {
   "cell_type": "markdown",
   "id": "1408cfec",
   "metadata": {},
   "source": [
    "#**Question 3: Not Being a beneficiary of the scholarship program is also a great factor, Do we have persons not benefititing from this program?**\n",
    "\n",
    "> Solution: Lets look at the Scholarship column"
   ]
  },
  {
   "cell_type": "code",
   "execution_count": 54,
   "id": "2466aaaa",
   "metadata": {},
   "outputs": [
    {
     "data": {
      "text/plain": [
       "0    19741\n",
       "1     2578\n",
       "Name: Scholarship, dtype: int64"
      ]
     },
     "execution_count": 54,
     "metadata": {},
     "output_type": "execute_result"
    }
   ],
   "source": [
    "# Analysing the number of persons benefitting from the Bolsa Familia Scholarship program\n",
    "\n",
    "Did_Not_show_up['Scholarship'].value_counts()"
   ]
  },
  {
   "cell_type": "code",
   "execution_count": 16,
   "id": "3c0175d1",
   "metadata": {},
   "outputs": [
    {
     "data": {
      "image/png": "[encoded data removed]",
      "text/plain": [
       "<Figure size 432x288 with 1 Axes>"
      ]
     },
     "metadata": {
      "needs_background": "light"
     },
     "output_type": "display_data"
    }
   ],
   "source": [
    "# plotting a bar chart to show us the proportion of patients benefiting from the scholarship and those that are not.\n",
    "\n",
    "Did_Not_show_up['Scholarship'].value_counts().plot(kind='bar', xlabel= 'scholarship', ylabel='No. of Patients', title= 'Scholarship Beneficiaries');"
   ]
  },
  {
   "cell_type": "markdown",
   "id": "c535bdff",
   "metadata": {},
   "source": [
    ">From this bar chart we can clearly see that more than 75% of the population are not benefitting from this program. Thus patients who are not beneficiaries couldnt show up."
   ]
  },
  {
   "cell_type": "code",
   "execution_count": 67,
   "id": "08f1a700",
   "metadata": {},
   "outputs": [
    {
     "data": {
      "text/html": [
       "<div>\n",
       "<style scoped>\n",
       "    .dataframe tbody tr th:only-of-type {\n",
       "        vertical-align: middle;\n",
       "    }\n",
       "\n",
       "    .dataframe tbody tr th {\n",
       "        vertical-align: top;\n",
       "    }\n",
       "\n",
       "    .dataframe thead th {\n",
       "        text-align: right;\n",
       "    }\n",
       "</style>\n",
       "<table border=\"1\" class=\"dataframe\">\n",
       "  <thead>\n",
       "    <tr style=\"text-align: right;\">\n",
       "      <th></th>\n",
       "      <th>Age</th>\n",
       "      <th>Scholarship</th>\n",
       "      <th>Hipertension</th>\n",
       "      <th>Diabetes</th>\n",
       "      <th>Alcoholism</th>\n",
       "      <th>Handicap</th>\n",
       "    </tr>\n",
       "    <tr>\n",
       "      <th>SMS_received</th>\n",
       "      <th></th>\n",
       "      <th></th>\n",
       "      <th></th>\n",
       "      <th></th>\n",
       "      <th></th>\n",
       "      <th></th>\n",
       "    </tr>\n",
       "  </thead>\n",
       "  <tbody>\n",
       "    <tr>\n",
       "      <th>0</th>\n",
       "      <td>34.642920</td>\n",
       "      <td>0.111209</td>\n",
       "      <td>0.177663</td>\n",
       "      <td>0.070682</td>\n",
       "      <td>0.031911</td>\n",
       "      <td>0.024412</td>\n",
       "    </tr>\n",
       "    <tr>\n",
       "      <th>1</th>\n",
       "      <td>33.900961</td>\n",
       "      <td>0.121014</td>\n",
       "      <td>0.157911</td>\n",
       "      <td>0.055601</td>\n",
       "      <td>0.028312</td>\n",
       "      <td>0.015025</td>\n",
       "    </tr>\n",
       "  </tbody>\n",
       "</table>\n",
       "</div>"
      ],
      "text/plain": [
       "                    Age  Scholarship  Hipertension  Diabetes  Alcoholism  \\\n",
       "SMS_received                                                               \n",
       "0             34.642920     0.111209      0.177663  0.070682    0.031911   \n",
       "1             33.900961     0.121014      0.157911  0.055601    0.028312   \n",
       "\n",
       "              Handicap  \n",
       "SMS_received            \n",
       "0             0.024412  \n",
       "1             0.015025  "
      ]
     },
     "execution_count": 67,
     "metadata": {},
     "output_type": "execute_result"
    }
   ],
   "source": [
    "#lets find out the mean for each SMS received \n",
    "\n",
    "Did_Not_show_up.groupby('SMS_received').mean()"
   ]
  },
  {
   "cell_type": "code",
   "execution_count": 60,
   "id": "dbb219b7",
   "metadata": {},
   "outputs": [
    {
     "data": {
      "text/html": [
       "<div>\n",
       "<style scoped>\n",
       "    .dataframe tbody tr th:only-of-type {\n",
       "        vertical-align: middle;\n",
       "    }\n",
       "\n",
       "    .dataframe tbody tr th {\n",
       "        vertical-align: top;\n",
       "    }\n",
       "\n",
       "    .dataframe thead th {\n",
       "        text-align: right;\n",
       "    }\n",
       "</style>\n",
       "<table border=\"1\" class=\"dataframe\">\n",
       "  <thead>\n",
       "    <tr style=\"text-align: right;\">\n",
       "      <th></th>\n",
       "      <th>SMS_received</th>\n",
       "      <th>Handicap</th>\n",
       "      <th>Scholarship</th>\n",
       "    </tr>\n",
       "  </thead>\n",
       "  <tbody>\n",
       "    <tr>\n",
       "      <th>0</th>\n",
       "      <td>0</td>\n",
       "      <td>0</td>\n",
       "      <td>0.112452</td>\n",
       "    </tr>\n",
       "    <tr>\n",
       "      <th>1</th>\n",
       "      <td>0</td>\n",
       "      <td>1</td>\n",
       "      <td>0.058333</td>\n",
       "    </tr>\n",
       "    <tr>\n",
       "      <th>2</th>\n",
       "      <td>0</td>\n",
       "      <td>2</td>\n",
       "      <td>0.033333</td>\n",
       "    </tr>\n",
       "    <tr>\n",
       "      <th>3</th>\n",
       "      <td>0</td>\n",
       "      <td>3</td>\n",
       "      <td>0.000000</td>\n",
       "    </tr>\n",
       "    <tr>\n",
       "      <th>4</th>\n",
       "      <td>1</td>\n",
       "      <td>0</td>\n",
       "      <td>0.121360</td>\n",
       "    </tr>\n",
       "    <tr>\n",
       "      <th>5</th>\n",
       "      <td>1</td>\n",
       "      <td>1</td>\n",
       "      <td>0.103175</td>\n",
       "    </tr>\n",
       "    <tr>\n",
       "      <th>6</th>\n",
       "      <td>1</td>\n",
       "      <td>2</td>\n",
       "      <td>0.000000</td>\n",
       "    </tr>\n",
       "    <tr>\n",
       "      <th>7</th>\n",
       "      <td>1</td>\n",
       "      <td>3</td>\n",
       "      <td>0.000000</td>\n",
       "    </tr>\n",
       "    <tr>\n",
       "      <th>8</th>\n",
       "      <td>1</td>\n",
       "      <td>4</td>\n",
       "      <td>0.000000</td>\n",
       "    </tr>\n",
       "  </tbody>\n",
       "</table>\n",
       "</div>"
      ],
      "text/plain": [
       "   SMS_received  Handicap  Scholarship\n",
       "0             0         0     0.112452\n",
       "1             0         1     0.058333\n",
       "2             0         2     0.033333\n",
       "3             0         3     0.000000\n",
       "4             1         0     0.121360\n",
       "5             1         1     0.103175\n",
       "6             1         2     0.000000\n",
       "7             1         3     0.000000\n",
       "8             1         4     0.000000"
      ]
     },
     "execution_count": 60,
     "metadata": {},
     "output_type": "execute_result"
    }
   ],
   "source": [
    "# the average scholarship for those that receive the sms and are handicapped.\n",
    "\n",
    "Did_Not_show_up.groupby(['SMS_received', 'Handicap'], as_index=False)['Scholarship'].mean()"
   ]
  },
  {
   "cell_type": "code",
   "execution_count": 18,
   "id": "8cd71159",
   "metadata": {},
   "outputs": [
    {
     "data": {
      "image/png": "[encoded data removed]",
      "text/plain": [
       "<Figure size 432x288 with 1 Axes>"
      ]
     },
     "metadata": {
      "needs_background": "light"
     },
     "output_type": "display_data"
    }
   ],
   "source": [
    "# An sns plot showing the distribution of those that receieved the sms and the scholarship beneficiaries\n",
    "\n",
    "sns.kdeplot(data=Did_Not_show_up, x=\"SMS_received\", hue=\"Scholarship\", multiple=\"stack\").set(title='Scholarship Beneficiaries vs sms receieved');"
   ]
  },
  {
   "cell_type": "markdown",
   "id": "bea811d0",
   "metadata": {},
   "source": [
    "> Looking at this plot, we can clearly see just a small number of patients received the sms and are also on schoarship. A greater number of the population are not beneficiaries. Hence they couldnt show up to the appointment."
   ]
  },
  {
   "cell_type": "code",
   "execution_count": 19,
   "id": "6a83e5d2",
   "metadata": {},
   "outputs": [
    {
     "data": {
      "image/png": "[encoded data removed]",
      "text/plain": [
       "<Figure size 432x288 with 1 Axes>"
      ]
     },
     "metadata": {
      "needs_background": "light"
     },
     "output_type": "display_data"
    }
   ],
   "source": [
    "# An sns plot showing the distribution of those that receieved the sms and those that are handicapped\n",
    "\n",
    "sns.kdeplot(data=Did_Not_show_up, x=\"SMS_received\", hue=\"Handicap\", multiple=\"stack\", warn_singular=False).set(title='Handicap vs sms received');"
   ]
  },
  {
   "cell_type": "markdown",
   "id": "96a7e0d4",
   "metadata": {},
   "source": [
    "> This kdeplot shows that a greater number of patients are not handicapped but they did not receive the sms. Hence they couldn't show up to their appointment. "
   ]
  },
  {
   "cell_type": "markdown",
   "id": "683f7d43",
   "metadata": {},
   "source": [
    "### **Conclusions** : From the above data analysis, we can deduce that;\n",
    "\n",
    "> Most persons did not receive the sms (more than 50% of the population). Hence contributing to their not showing up to the appointment.\n",
    "\n",
    "> The analysis also showed that few persons are handicapped, hence could not make it to their appointment\n",
    "\n",
    "> Also more than 75% of the population are not beneficiarie of the Bolsa Familia program, hence they also couldn't make it to the appointment due to financial constraints.\n",
    "\n",
    "> Finally we'v clearly seen that even though some persons received the sms, they still did NOT show up for the appointment because they are either handicapped or not benefitting from the scholarship program."
   ]
  },
  {
   "cell_type": "markdown",
   "id": "6ec0b1aa",
   "metadata": {},
   "source": [
    "##**Limitations** \n",
    "\n",
    "> **Handicap**: This handicap column seemed not to be self- explanatory. it has unique values such as 0,1,2,3,4. We already know 0 and 1 represent False and True respectively. The rest of the values (2,3,4) could still mean that an individual is handicapped in more than one part of his/her body. These values could mean a lot of different things. The author of the dataset did not give any additional information on that. Notwithstanding provided the value is not 0, it means the individual is handicapped.\n",
    "\n",
    "> **Age**: The age column has an outlier like 115 and values like 0 and -1. Also here the author of the dataset did not provide sufficient information concerning this. I worked with these values because in real life situation, we could still have someone of that age (115). -1 could represent an unborn child, while 0 represents a Newborn. These are my own intepretations. Not having sufficient information about this from the author already poses a hindrance.\n",
    "\n",
    ">**Neighbourhood**: Here there is no additional information in this column to know the proximity of the neighbourhoods to the health centres. To ascertain  mobility or whether its a flood prone region. There are a lot of things to consider in this column, but no additional information was given. "
   ]
  },
  {
   "cell_type": "code",
   "execution_count": null,
   "id": "960f9e76",
   "metadata": {},
   "outputs": [],
   "source": []
  }
 ],
 "metadata": {
  "kernelspec": {
   "display_name": "Python 3 (ipykernel)",
   "language": "python",
   "name": "python3"
  },
  "language_info": {
   "codemirror_mode": {
    "name": "ipython",
    "version": 3
   },
   "file_extension": ".py",
   "mimetype": "text/x-python",
   "name": "python",
   "nbconvert_exporter": "python",
   "pygments_lexer": "ipython3",
   "version": "3.9.12"
  }
 },
 "nbformat": 4,
 "nbformat_minor": 5
}
