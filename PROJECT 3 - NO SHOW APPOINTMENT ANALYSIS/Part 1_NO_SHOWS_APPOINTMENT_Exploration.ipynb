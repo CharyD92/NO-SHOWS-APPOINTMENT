{
 "cells": [
  {
   "cell_type": "markdown",
   "id": "164682aa",
   "metadata": {
    "id": "164682aa"
   },
   "source": [
    "# **NO-SHOWS APOINTMENT DATA EXPLORATION**\n",
    "\n",
    "## BY: CHARITY DIOH"
   ]
  },
  {
   "cell_type": "markdown",
   "id": "c3076dd2",
   "metadata": {
    "id": "c3076dd2"
   },
   "source": [
    "##  **Introduction**\n",
    "\n",
    "> This dataset collects information from 100k medical appointments in Brazil and is focused on the question of whether or not \n",
    "  patients show up for their appointment. A number of characteristics about the patient are included in each row.\n",
    "    \n",
    "### Here is a list of all column names on this dataset\n",
    "> Client ID, Appoinment ID, Gender, Scheduled day, Appointment Day, Age, Neighbourhood, Scholarship, Hipertension, Diabetes,\n",
    "  Hipertension, Alcoholism, Handicap, SMS_received, No-show.\n",
    "\n",
    "### Here are the significances of the columns\n",
    "\n",
    "> *Patient ID*: Identification of a patient\n",
    "    \n",
    "> *Appointment ID*: Identification of each appointment\n",
    "    \n",
    "> *Gender*: Male or Female . Female is the greater proportion, woman takes way more care of they health in comparison to man.\n",
    "\n",
    "> *Scheduled Day*: tells us on what day the patient set up their appointment.\n",
    "    \n",
    "> *Neighborhood*: indicates the location of the hospital.\n",
    "\n",
    "> *Age*: How old is the patient.\n",
    "\n",
    ">  *Hipertension*: True or False\n",
    "\n",
    ">  *Diabetes*: True or False\n",
    "\n",
    ">  *Alcoholism*: True or False\n",
    "\n",
    ">  *Handcap*: True or False\n",
    "\n",
    ">  *SMS_received*: 1 or more messages sent to the patient.\n",
    "\n",
    ">  *No-show*: True or False.\n",
    "\n",
    "> *Scholarship*: indicates whether or not the patient is enrolled in Brasilian welfare program Bolsa Família.\n",
    "\n",
    "    > **Key Point**\n",
    "\n",
    "> Encoding of the last column (Scholarship): it says ‘No’ if the patient showed up to their appointment, and ‘Yes’ if they did not show up."
   ]
  },
  {
   "cell_type": "markdown",
   "id": "b6684f7a",
   "metadata": {
    "id": "b6684f7a"
   },
   "source": [
    "## **Preliminary Wrangling**"
   ]
  },
  {
   "cell_type": "markdown",
   "id": "0dc21033",
   "metadata": {
    "id": "0dc21033"
   },
   "source": [
    "> The first thing thing we do before running any code in this noebook would be importing the neccessary packages needed for this analysis."
   ]
  },
  {
   "cell_type": "code",
   "execution_count": 1,
   "id": "77a7767d",
   "metadata": {
    "id": "77a7767d"
   },
   "outputs": [],
   "source": [
    "# importing statements for all the packages i plan to use\n",
    "\n",
    "import pandas as pd \n",
    "import numpy as np \n",
    "import matplotlib.pyplot as plt\n",
    "import seaborn as sns\n",
    "%matplotlib inline\n"
   ]
  },
  {
   "cell_type": "markdown",
   "id": "d3bce8cf",
   "metadata": {
    "id": "d3bce8cf"
   },
   "source": [
    "> The next step is loading the dataset we are working on."
   ]
  },
  {
   "cell_type": "code",
   "execution_count": 2,
   "id": "c0fc1261",
   "metadata": {
    "colab": {
     "base_uri": "https://localhost:8080/",
     "height": 374
    },
    "id": "c0fc1261",
    "outputId": "b3cc6ebc-7f43-4a91-dd56-f6c0a29c1588"
   },
   "outputs": [
    {
     "data": {
      "text/html": [
       "<div>\n",
       "<style scoped>\n",
       "    .dataframe tbody tr th:only-of-type {\n",
       "        vertical-align: middle;\n",
       "    }\n",
       "\n",
       "    .dataframe tbody tr th {\n",
       "        vertical-align: top;\n",
       "    }\n",
       "\n",
       "    .dataframe thead th {\n",
       "        text-align: right;\n",
       "    }\n",
       "</style>\n",
       "<table border=\"1\" class=\"dataframe\">\n",
       "  <thead>\n",
       "    <tr style=\"text-align: right;\">\n",
       "      <th></th>\n",
       "      <th>PatientId</th>\n",
       "      <th>AppointmentID</th>\n",
       "      <th>Gender</th>\n",
       "      <th>ScheduledDay</th>\n",
       "      <th>AppointmentDay</th>\n",
       "      <th>Age</th>\n",
       "      <th>Neighbourhood</th>\n",
       "      <th>Scholarship</th>\n",
       "      <th>Hipertension</th>\n",
       "      <th>Diabetes</th>\n",
       "      <th>Alcoholism</th>\n",
       "      <th>Handcap</th>\n",
       "      <th>SMS_received</th>\n",
       "      <th>No-show</th>\n",
       "    </tr>\n",
       "  </thead>\n",
       "  <tbody>\n",
       "    <tr>\n",
       "      <th>0</th>\n",
       "      <td>2.987250e+13</td>\n",
       "      <td>5642903</td>\n",
       "      <td>F</td>\n",
       "      <td>2016-04-29T18:38:08Z</td>\n",
       "      <td>2016-04-29T00:00:00Z</td>\n",
       "      <td>62</td>\n",
       "      <td>JARDIM DA PENHA</td>\n",
       "      <td>0</td>\n",
       "      <td>1</td>\n",
       "      <td>0</td>\n",
       "      <td>0</td>\n",
       "      <td>0</td>\n",
       "      <td>0</td>\n",
       "      <td>No</td>\n",
       "    </tr>\n",
       "    <tr>\n",
       "      <th>1</th>\n",
       "      <td>5.589978e+14</td>\n",
       "      <td>5642503</td>\n",
       "      <td>M</td>\n",
       "      <td>2016-04-29T16:08:27Z</td>\n",
       "      <td>2016-04-29T00:00:00Z</td>\n",
       "      <td>56</td>\n",
       "      <td>JARDIM DA PENHA</td>\n",
       "      <td>0</td>\n",
       "      <td>0</td>\n",
       "      <td>0</td>\n",
       "      <td>0</td>\n",
       "      <td>0</td>\n",
       "      <td>0</td>\n",
       "      <td>No</td>\n",
       "    </tr>\n",
       "    <tr>\n",
       "      <th>2</th>\n",
       "      <td>4.262962e+12</td>\n",
       "      <td>5642549</td>\n",
       "      <td>F</td>\n",
       "      <td>2016-04-29T16:19:04Z</td>\n",
       "      <td>2016-04-29T00:00:00Z</td>\n",
       "      <td>62</td>\n",
       "      <td>MATA DA PRAIA</td>\n",
       "      <td>0</td>\n",
       "      <td>0</td>\n",
       "      <td>0</td>\n",
       "      <td>0</td>\n",
       "      <td>0</td>\n",
       "      <td>0</td>\n",
       "      <td>No</td>\n",
       "    </tr>\n",
       "    <tr>\n",
       "      <th>3</th>\n",
       "      <td>8.679512e+11</td>\n",
       "      <td>5642828</td>\n",
       "      <td>F</td>\n",
       "      <td>2016-04-29T17:29:31Z</td>\n",
       "      <td>2016-04-29T00:00:00Z</td>\n",
       "      <td>8</td>\n",
       "      <td>PONTAL DE CAMBURI</td>\n",
       "      <td>0</td>\n",
       "      <td>0</td>\n",
       "      <td>0</td>\n",
       "      <td>0</td>\n",
       "      <td>0</td>\n",
       "      <td>0</td>\n",
       "      <td>No</td>\n",
       "    </tr>\n",
       "    <tr>\n",
       "      <th>4</th>\n",
       "      <td>8.841186e+12</td>\n",
       "      <td>5642494</td>\n",
       "      <td>F</td>\n",
       "      <td>2016-04-29T16:07:23Z</td>\n",
       "      <td>2016-04-29T00:00:00Z</td>\n",
       "      <td>56</td>\n",
       "      <td>JARDIM DA PENHA</td>\n",
       "      <td>0</td>\n",
       "      <td>1</td>\n",
       "      <td>1</td>\n",
       "      <td>0</td>\n",
       "      <td>0</td>\n",
       "      <td>0</td>\n",
       "      <td>No</td>\n",
       "    </tr>\n",
       "  </tbody>\n",
       "</table>\n",
       "</div>"
      ],
      "text/plain": [
       "      PatientId  AppointmentID Gender          ScheduledDay  \\\n",
       "0  2.987250e+13        5642903      F  2016-04-29T18:38:08Z   \n",
       "1  5.589978e+14        5642503      M  2016-04-29T16:08:27Z   \n",
       "2  4.262962e+12        5642549      F  2016-04-29T16:19:04Z   \n",
       "3  8.679512e+11        5642828      F  2016-04-29T17:29:31Z   \n",
       "4  8.841186e+12        5642494      F  2016-04-29T16:07:23Z   \n",
       "\n",
       "         AppointmentDay  Age      Neighbourhood  Scholarship  Hipertension  \\\n",
       "0  2016-04-29T00:00:00Z   62    JARDIM DA PENHA            0             1   \n",
       "1  2016-04-29T00:00:00Z   56    JARDIM DA PENHA            0             0   \n",
       "2  2016-04-29T00:00:00Z   62      MATA DA PRAIA            0             0   \n",
       "3  2016-04-29T00:00:00Z    8  PONTAL DE CAMBURI            0             0   \n",
       "4  2016-04-29T00:00:00Z   56    JARDIM DA PENHA            0             1   \n",
       "\n",
       "   Diabetes  Alcoholism  Handcap  SMS_received No-show  \n",
       "0         0           0        0             0      No  \n",
       "1         0           0        0             0      No  \n",
       "2         0           0        0             0      No  \n",
       "3         0           0        0             0      No  \n",
       "4         1           0        0             0      No  "
      ]
     },
     "execution_count": 2,
     "metadata": {},
     "output_type": "execute_result"
    }
   ],
   "source": [
    "## Load the data and print out a few lines\n",
    "\n",
    "df = pd.read_csv(\"C:/Users/ADMIN/Desktop/Charity/PROJECT 3/noshowappointments-kagglev2-may-2016 (1).csv\")\n",
    "\n",
    "df.head()"
   ]
  },
  {
   "cell_type": "markdown",
   "id": "14643529",
   "metadata": {
    "id": "14643529"
   },
   "source": [
    "> Now, we have our dataset, we would like to confirm the number of rows and columns in this dataset"
   ]
  },
  {
   "cell_type": "code",
   "execution_count": 3,
   "id": "969972bf",
   "metadata": {
    "colab": {
     "base_uri": "https://localhost:8080/"
    },
    "id": "969972bf",
    "outputId": "cc859821-dd57-46b1-a070-bee9a0df24bb"
   },
   "outputs": [
    {
     "data": {
      "text/plain": [
       "(110527, 14)"
      ]
     },
     "execution_count": 3,
     "metadata": {},
     "output_type": "execute_result"
    }
   ],
   "source": [
    "# Confirming the number of columns and rows\n",
    "df.shape"
   ]
  },
  {
   "cell_type": "markdown",
   "id": "dadc2629",
   "metadata": {
    "id": "dadc2629"
   },
   "source": [
    "> The next crucial step is to check for errors in our dataset and then fix them. We check for errors like missing values, wrong data types, duplicates, outliers."
   ]
  },
  {
   "cell_type": "code",
   "execution_count": 4,
   "id": "0a2b0092",
   "metadata": {
    "id": "0a2b0092",
    "outputId": "d94d7189-0a95-4997-db1a-ad9f4601ba3a"
   },
   "outputs": [
    {
     "data": {
      "text/plain": [
       "PatientId         float64\n",
       "AppointmentID       int64\n",
       "Gender             object\n",
       "ScheduledDay       object\n",
       "AppointmentDay     object\n",
       "Age                 int64\n",
       "Neighbourhood      object\n",
       "Scholarship         int64\n",
       "Hipertension        int64\n",
       "Diabetes            int64\n",
       "Alcoholism          int64\n",
       "Handcap             int64\n",
       "SMS_received        int64\n",
       "No-show            object\n",
       "dtype: object"
      ]
     },
     "execution_count": 4,
     "metadata": {},
     "output_type": "execute_result"
    }
   ],
   "source": [
    "# Checking for wrong data types \n",
    "\n",
    "df.dtypes"
   ]
  },
  {
   "cell_type": "markdown",
   "id": "6d266d6a",
   "metadata": {
    "id": "6d266d6a"
   },
   "source": [
    "> From the above data, we can see that most of our columns have the correct data types. Except columns like Scheduled Day and Appointment Day. These 2 columns ought to have a datetime date time datatype not the object data type. Hence, we need to fix this. "
   ]
  },
  {
   "cell_type": "code",
   "execution_count": 5,
   "id": "3d6cea3e",
   "metadata": {
    "id": "3d6cea3e",
    "outputId": "949429bb-0bd2-4b8d-b0cc-7c79d31f3cd4"
   },
   "outputs": [
    {
     "data": {
      "text/plain": [
       "PatientId         0\n",
       "AppointmentID     0\n",
       "Gender            0\n",
       "ScheduledDay      0\n",
       "AppointmentDay    0\n",
       "Age               0\n",
       "Neighbourhood     0\n",
       "Scholarship       0\n",
       "Hipertension      0\n",
       "Diabetes          0\n",
       "Alcoholism        0\n",
       "Handcap           0\n",
       "SMS_received      0\n",
       "No-show           0\n",
       "dtype: int64"
      ]
     },
     "execution_count": 5,
     "metadata": {},
     "output_type": "execute_result"
    }
   ],
   "source": [
    "# Checking for missing values\n",
    "\n",
    "df.isnull().sum()"
   ]
  },
  {
   "cell_type": "markdown",
   "id": "f0f9753a",
   "metadata": {
    "id": "f0f9753a"
   },
   "source": [
    "> From the above data, we can also see that there are no missing values"
   ]
  },
  {
   "cell_type": "code",
   "execution_count": 6,
   "id": "a0598ca0",
   "metadata": {
    "id": "a0598ca0",
    "outputId": "c5dd08be-da4a-4fa6-a9cf-21fa5978f593"
   },
   "outputs": [
    {
     "data": {
      "text/plain": [
       "0"
      ]
     },
     "execution_count": 6,
     "metadata": {},
     "output_type": "execute_result"
    }
   ],
   "source": [
    "# Checking for duplicates\n",
    "\n",
    "df.duplicated().sum()"
   ]
  },
  {
   "cell_type": "markdown",
   "id": "792ccc77",
   "metadata": {
    "id": "792ccc77"
   },
   "source": [
    "> There are no duplicate values"
   ]
  },
  {
   "cell_type": "markdown",
   "id": "ed9d2b70",
   "metadata": {
    "id": "ed9d2b70"
   },
   "source": [
    "## **Data Cleaning**"
   ]
  },
  {
   "cell_type": "markdown",
   "id": "20ccbfcd",
   "metadata": {
    "id": "20ccbfcd"
   },
   "source": [
    "> In this step of data cleaning, we fix every error detected, so that these errors do not intefere with our analysis. \n",
    "\n",
    "> Let us start by dropping columns which are not relevant to our analysis."
   ]
  },
  {
   "cell_type": "code",
   "execution_count": 7,
   "id": "798594e8",
   "metadata": {
    "colab": {
     "base_uri": "https://localhost:8080/",
     "height": 81
    },
    "id": "798594e8",
    "outputId": "ec136536-0287-47b0-fff5-e963112986b5"
   },
   "outputs": [
    {
     "data": {
      "text/html": [
       "<div>\n",
       "<style scoped>\n",
       "    .dataframe tbody tr th:only-of-type {\n",
       "        vertical-align: middle;\n",
       "    }\n",
       "\n",
       "    .dataframe tbody tr th {\n",
       "        vertical-align: top;\n",
       "    }\n",
       "\n",
       "    .dataframe thead th {\n",
       "        text-align: right;\n",
       "    }\n",
       "</style>\n",
       "<table border=\"1\" class=\"dataframe\">\n",
       "  <thead>\n",
       "    <tr style=\"text-align: right;\">\n",
       "      <th></th>\n",
       "      <th>Gender</th>\n",
       "      <th>ScheduledDay</th>\n",
       "      <th>AppointmentDay</th>\n",
       "      <th>Age</th>\n",
       "      <th>Neighbourhood</th>\n",
       "      <th>Scholarship</th>\n",
       "      <th>Hipertension</th>\n",
       "      <th>Diabetes</th>\n",
       "      <th>Alcoholism</th>\n",
       "      <th>Handcap</th>\n",
       "      <th>SMS_received</th>\n",
       "      <th>No-show</th>\n",
       "    </tr>\n",
       "  </thead>\n",
       "  <tbody>\n",
       "    <tr>\n",
       "      <th>0</th>\n",
       "      <td>F</td>\n",
       "      <td>2016-04-29T18:38:08Z</td>\n",
       "      <td>2016-04-29T00:00:00Z</td>\n",
       "      <td>62</td>\n",
       "      <td>JARDIM DA PENHA</td>\n",
       "      <td>0</td>\n",
       "      <td>1</td>\n",
       "      <td>0</td>\n",
       "      <td>0</td>\n",
       "      <td>0</td>\n",
       "      <td>0</td>\n",
       "      <td>No</td>\n",
       "    </tr>\n",
       "  </tbody>\n",
       "</table>\n",
       "</div>"
      ],
      "text/plain": [
       "  Gender          ScheduledDay        AppointmentDay  Age    Neighbourhood  \\\n",
       "0      F  2016-04-29T18:38:08Z  2016-04-29T00:00:00Z   62  JARDIM DA PENHA   \n",
       "\n",
       "   Scholarship  Hipertension  Diabetes  Alcoholism  Handcap  SMS_received  \\\n",
       "0            0             1         0           0        0             0   \n",
       "\n",
       "  No-show  \n",
       "0      No  "
      ]
     },
     "execution_count": 7,
     "metadata": {},
     "output_type": "execute_result"
    }
   ],
   "source": [
    "# drop columns not relevant to us from this dataset\n",
    "df.drop(['PatientId', 'AppointmentID'], axis=1, inplace=True)\n",
    "\n",
    "# confirm changes\n",
    "df.head(1)"
   ]
  },
  {
   "cell_type": "markdown",
   "id": "a8bc32eb",
   "metadata": {
    "id": "a8bc32eb"
   },
   "source": [
    "> Once, we drop these columns,we can also run a check on our dataset, to confirm our rows and columns. Initially we had 14 columns, we just dropped 2 columns, so we are exepceted to have 12 columns now."
   ]
  },
  {
   "cell_type": "code",
   "execution_count": 8,
   "id": "1c7dc101",
   "metadata": {
    "colab": {
     "base_uri": "https://localhost:8080/"
    },
    "id": "1c7dc101",
    "outputId": "bb434ed5-8202-470c-a9f3-848b17d3f7aa"
   },
   "outputs": [
    {
     "data": {
      "text/plain": [
       "(110527, 12)"
      ]
     },
     "execution_count": 8,
     "metadata": {},
     "output_type": "execute_result"
    }
   ],
   "source": [
    "# Confirming the rows and columns\n",
    "df.shape"
   ]
  },
  {
   "cell_type": "markdown",
   "id": "0c62c02f",
   "metadata": {
    "id": "0c62c02f"
   },
   "source": [
    "> We can also rename some of our column names with 2 letter word to a proper code standard names by adding an underscore between these 2 words."
   ]
  },
  {
   "cell_type": "code",
   "execution_count": 9,
   "id": "e454893d",
   "metadata": {
    "colab": {
     "base_uri": "https://localhost:8080/",
     "height": 81
    },
    "id": "e454893d",
    "outputId": "5d2ba146-57d9-4417-86db-63d2f29c8478"
   },
   "outputs": [
    {
     "data": {
      "text/html": [
       "<div>\n",
       "<style scoped>\n",
       "    .dataframe tbody tr th:only-of-type {\n",
       "        vertical-align: middle;\n",
       "    }\n",
       "\n",
       "    .dataframe tbody tr th {\n",
       "        vertical-align: top;\n",
       "    }\n",
       "\n",
       "    .dataframe thead th {\n",
       "        text-align: right;\n",
       "    }\n",
       "</style>\n",
       "<table border=\"1\" class=\"dataframe\">\n",
       "  <thead>\n",
       "    <tr style=\"text-align: right;\">\n",
       "      <th></th>\n",
       "      <th>Gender</th>\n",
       "      <th>Scheduled_Day</th>\n",
       "      <th>Appointment_Day</th>\n",
       "      <th>Age</th>\n",
       "      <th>Neighbourhood</th>\n",
       "      <th>Scholarship</th>\n",
       "      <th>Hypertension</th>\n",
       "      <th>Diabetes</th>\n",
       "      <th>Alcoholism</th>\n",
       "      <th>Handicap</th>\n",
       "      <th>SMS_received</th>\n",
       "      <th>No_show</th>\n",
       "    </tr>\n",
       "  </thead>\n",
       "  <tbody>\n",
       "    <tr>\n",
       "      <th>0</th>\n",
       "      <td>F</td>\n",
       "      <td>2016-04-29T18:38:08Z</td>\n",
       "      <td>2016-04-29T00:00:00Z</td>\n",
       "      <td>62</td>\n",
       "      <td>JARDIM DA PENHA</td>\n",
       "      <td>0</td>\n",
       "      <td>1</td>\n",
       "      <td>0</td>\n",
       "      <td>0</td>\n",
       "      <td>0</td>\n",
       "      <td>0</td>\n",
       "      <td>No</td>\n",
       "    </tr>\n",
       "  </tbody>\n",
       "</table>\n",
       "</div>"
      ],
      "text/plain": [
       "  Gender         Scheduled_Day       Appointment_Day  Age    Neighbourhood  \\\n",
       "0      F  2016-04-29T18:38:08Z  2016-04-29T00:00:00Z   62  JARDIM DA PENHA   \n",
       "\n",
       "   Scholarship  Hypertension  Diabetes  Alcoholism  Handicap  SMS_received  \\\n",
       "0            0             1         0           0         0             0   \n",
       "\n",
       "  No_show  \n",
       "0      No  "
      ]
     },
     "execution_count": 9,
     "metadata": {},
     "output_type": "execute_result"
    }
   ],
   "source": [
    "# renaming columns\n",
    "df.rename(columns={'ScheduledDay' : 'Scheduled_Day', 'AppointmentDay' : 'Appointment_Day', 'No-show' : 'No_show', 'Handcap' : 'Handicap', 'Hipertension' : 'Hypertension'}, inplace=True)\n",
    "\n",
    "# confirming changes\n",
    "df.head(1)"
   ]
  },
  {
   "cell_type": "markdown",
   "id": "229c67c9",
   "metadata": {
    "id": "229c67c9"
   },
   "source": [
    "> Now we can fix our data types errors namely Scheduled day and Appointment day having an object datatype, we fix them by converting their data type to a datetime data type. "
   ]
  },
  {
   "cell_type": "code",
   "execution_count": 10,
   "id": "407afaa4",
   "metadata": {
    "colab": {
     "base_uri": "https://localhost:8080/",
     "height": 125
    },
    "id": "407afaa4",
    "outputId": "3d557b63-7375-45e2-8a81-9c4f63da9e3a"
   },
   "outputs": [
    {
     "data": {
      "text/html": [
       "<div>\n",
       "<style scoped>\n",
       "    .dataframe tbody tr th:only-of-type {\n",
       "        vertical-align: middle;\n",
       "    }\n",
       "\n",
       "    .dataframe tbody tr th {\n",
       "        vertical-align: top;\n",
       "    }\n",
       "\n",
       "    .dataframe thead th {\n",
       "        text-align: right;\n",
       "    }\n",
       "</style>\n",
       "<table border=\"1\" class=\"dataframe\">\n",
       "  <thead>\n",
       "    <tr style=\"text-align: right;\">\n",
       "      <th></th>\n",
       "      <th>Gender</th>\n",
       "      <th>Scheduled_Day</th>\n",
       "      <th>Appointment_Day</th>\n",
       "      <th>Age</th>\n",
       "      <th>Neighbourhood</th>\n",
       "      <th>Scholarship</th>\n",
       "      <th>Hypertension</th>\n",
       "      <th>Diabetes</th>\n",
       "      <th>Alcoholism</th>\n",
       "      <th>Handicap</th>\n",
       "      <th>SMS_received</th>\n",
       "      <th>No_show</th>\n",
       "    </tr>\n",
       "  </thead>\n",
       "  <tbody>\n",
       "    <tr>\n",
       "      <th>0</th>\n",
       "      <td>F</td>\n",
       "      <td>2016-04-29 18:38:08+00:00</td>\n",
       "      <td>2016-04-29T00:00:00Z</td>\n",
       "      <td>62</td>\n",
       "      <td>JARDIM DA PENHA</td>\n",
       "      <td>0</td>\n",
       "      <td>1</td>\n",
       "      <td>0</td>\n",
       "      <td>0</td>\n",
       "      <td>0</td>\n",
       "      <td>0</td>\n",
       "      <td>No</td>\n",
       "    </tr>\n",
       "  </tbody>\n",
       "</table>\n",
       "</div>"
      ],
      "text/plain": [
       "  Gender             Scheduled_Day       Appointment_Day  Age  \\\n",
       "0      F 2016-04-29 18:38:08+00:00  2016-04-29T00:00:00Z   62   \n",
       "\n",
       "     Neighbourhood  Scholarship  Hypertension  Diabetes  Alcoholism  Handicap  \\\n",
       "0  JARDIM DA PENHA            0             1         0           0         0   \n",
       "\n",
       "   SMS_received No_show  \n",
       "0             0      No  "
      ]
     },
     "execution_count": 10,
     "metadata": {},
     "output_type": "execute_result"
    }
   ],
   "source": [
    "# fixing our datatype\n",
    "df['Scheduled_Day'] = pd.to_datetime(df['Scheduled_Day'])\n",
    "\n",
    "#confirming changes\n",
    "df.head(1)"
   ]
  },
  {
   "cell_type": "code",
   "execution_count": 11,
   "id": "e169325c",
   "metadata": {
    "colab": {
     "base_uri": "https://localhost:8080/",
     "height": 142
    },
    "id": "e169325c",
    "outputId": "5d085d51-b3a7-4673-b36a-0a4ed4629418"
   },
   "outputs": [
    {
     "data": {
      "text/html": [
       "<div>\n",
       "<style scoped>\n",
       "    .dataframe tbody tr th:only-of-type {\n",
       "        vertical-align: middle;\n",
       "    }\n",
       "\n",
       "    .dataframe tbody tr th {\n",
       "        vertical-align: top;\n",
       "    }\n",
       "\n",
       "    .dataframe thead th {\n",
       "        text-align: right;\n",
       "    }\n",
       "</style>\n",
       "<table border=\"1\" class=\"dataframe\">\n",
       "  <thead>\n",
       "    <tr style=\"text-align: right;\">\n",
       "      <th></th>\n",
       "      <th>Gender</th>\n",
       "      <th>Scheduled_Day</th>\n",
       "      <th>Appointment_Day</th>\n",
       "      <th>Age</th>\n",
       "      <th>Neighbourhood</th>\n",
       "      <th>Scholarship</th>\n",
       "      <th>Hypertension</th>\n",
       "      <th>Diabetes</th>\n",
       "      <th>Alcoholism</th>\n",
       "      <th>Handicap</th>\n",
       "      <th>SMS_received</th>\n",
       "      <th>No_show</th>\n",
       "    </tr>\n",
       "  </thead>\n",
       "  <tbody>\n",
       "    <tr>\n",
       "      <th>0</th>\n",
       "      <td>F</td>\n",
       "      <td>2016-04-29 18:38:08+00:00</td>\n",
       "      <td>2016-04-29 00:00:00+00:00</td>\n",
       "      <td>62</td>\n",
       "      <td>JARDIM DA PENHA</td>\n",
       "      <td>0</td>\n",
       "      <td>1</td>\n",
       "      <td>0</td>\n",
       "      <td>0</td>\n",
       "      <td>0</td>\n",
       "      <td>0</td>\n",
       "      <td>No</td>\n",
       "    </tr>\n",
       "  </tbody>\n",
       "</table>\n",
       "</div>"
      ],
      "text/plain": [
       "  Gender             Scheduled_Day           Appointment_Day  Age  \\\n",
       "0      F 2016-04-29 18:38:08+00:00 2016-04-29 00:00:00+00:00   62   \n",
       "\n",
       "     Neighbourhood  Scholarship  Hypertension  Diabetes  Alcoholism  Handicap  \\\n",
       "0  JARDIM DA PENHA            0             1         0           0         0   \n",
       "\n",
       "   SMS_received No_show  \n",
       "0             0      No  "
      ]
     },
     "execution_count": 11,
     "metadata": {},
     "output_type": "execute_result"
    }
   ],
   "source": [
    "# fixing our datatype\n",
    "df['Appointment_Day'] = pd.to_datetime(df['Appointment_Day'])\n",
    "\n",
    "# confirming changes\n",
    "df.head(1)"
   ]
  },
  {
   "cell_type": "code",
   "execution_count": 12,
   "id": "22b03fea",
   "metadata": {
    "colab": {
     "base_uri": "https://localhost:8080/"
    },
    "id": "22b03fea",
    "outputId": "593dc16b-64e0-4b1f-d3e0-8bdf16d371bc"
   },
   "outputs": [
    {
     "data": {
      "text/plain": [
       "Gender                          object\n",
       "Scheduled_Day      datetime64[ns, UTC]\n",
       "Appointment_Day    datetime64[ns, UTC]\n",
       "Age                              int64\n",
       "Neighbourhood                   object\n",
       "Scholarship                      int64\n",
       "Hypertension                     int64\n",
       "Diabetes                         int64\n",
       "Alcoholism                       int64\n",
       "Handicap                         int64\n",
       "SMS_received                     int64\n",
       "No_show                         object\n",
       "dtype: object"
      ]
     },
     "execution_count": 12,
     "metadata": {},
     "output_type": "execute_result"
    }
   ],
   "source": [
    "#confirming that the datatypes has been fixed\n",
    "\n",
    "df.dtypes"
   ]
  },
  {
   "cell_type": "code",
   "execution_count": 13,
   "id": "8d769e68",
   "metadata": {
    "colab": {
     "base_uri": "https://localhost:8080/",
     "height": 337
    },
    "id": "8d769e68",
    "outputId": "cca10ee7-119c-4484-df2b-24e1ecdc21c0"
   },
   "outputs": [
    {
     "data": {
      "text/html": [
       "<div>\n",
       "<style scoped>\n",
       "    .dataframe tbody tr th:only-of-type {\n",
       "        vertical-align: middle;\n",
       "    }\n",
       "\n",
       "    .dataframe tbody tr th {\n",
       "        vertical-align: top;\n",
       "    }\n",
       "\n",
       "    .dataframe thead th {\n",
       "        text-align: right;\n",
       "    }\n",
       "</style>\n",
       "<table border=\"1\" class=\"dataframe\">\n",
       "  <thead>\n",
       "    <tr style=\"text-align: right;\">\n",
       "      <th></th>\n",
       "      <th>Gender</th>\n",
       "      <th>Scheduled_Day</th>\n",
       "      <th>Appointment_Day</th>\n",
       "      <th>Age</th>\n",
       "      <th>Neighbourhood</th>\n",
       "      <th>Scholarship</th>\n",
       "      <th>Hypertension</th>\n",
       "      <th>Diabetes</th>\n",
       "      <th>Alcoholism</th>\n",
       "      <th>Handicap</th>\n",
       "      <th>SMS_received</th>\n",
       "      <th>No_show</th>\n",
       "    </tr>\n",
       "  </thead>\n",
       "  <tbody>\n",
       "    <tr>\n",
       "      <th>0</th>\n",
       "      <td>F</td>\n",
       "      <td>2016-04-29 18:38:08+00:00</td>\n",
       "      <td>2016-04-29 00:00:00+00:00</td>\n",
       "      <td>62</td>\n",
       "      <td>JARDIM DA PENHA</td>\n",
       "      <td>0</td>\n",
       "      <td>1</td>\n",
       "      <td>0</td>\n",
       "      <td>0</td>\n",
       "      <td>0</td>\n",
       "      <td>0</td>\n",
       "      <td>No</td>\n",
       "    </tr>\n",
       "    <tr>\n",
       "      <th>1</th>\n",
       "      <td>M</td>\n",
       "      <td>2016-04-29 16:08:27+00:00</td>\n",
       "      <td>2016-04-29 00:00:00+00:00</td>\n",
       "      <td>56</td>\n",
       "      <td>JARDIM DA PENHA</td>\n",
       "      <td>0</td>\n",
       "      <td>0</td>\n",
       "      <td>0</td>\n",
       "      <td>0</td>\n",
       "      <td>0</td>\n",
       "      <td>0</td>\n",
       "      <td>No</td>\n",
       "    </tr>\n",
       "    <tr>\n",
       "      <th>2</th>\n",
       "      <td>F</td>\n",
       "      <td>2016-04-29 16:19:04+00:00</td>\n",
       "      <td>2016-04-29 00:00:00+00:00</td>\n",
       "      <td>62</td>\n",
       "      <td>MATA DA PRAIA</td>\n",
       "      <td>0</td>\n",
       "      <td>0</td>\n",
       "      <td>0</td>\n",
       "      <td>0</td>\n",
       "      <td>0</td>\n",
       "      <td>0</td>\n",
       "      <td>No</td>\n",
       "    </tr>\n",
       "    <tr>\n",
       "      <th>3</th>\n",
       "      <td>F</td>\n",
       "      <td>2016-04-29 17:29:31+00:00</td>\n",
       "      <td>2016-04-29 00:00:00+00:00</td>\n",
       "      <td>8</td>\n",
       "      <td>PONTAL DE CAMBURI</td>\n",
       "      <td>0</td>\n",
       "      <td>0</td>\n",
       "      <td>0</td>\n",
       "      <td>0</td>\n",
       "      <td>0</td>\n",
       "      <td>0</td>\n",
       "      <td>No</td>\n",
       "    </tr>\n",
       "    <tr>\n",
       "      <th>4</th>\n",
       "      <td>F</td>\n",
       "      <td>2016-04-29 16:07:23+00:00</td>\n",
       "      <td>2016-04-29 00:00:00+00:00</td>\n",
       "      <td>56</td>\n",
       "      <td>JARDIM DA PENHA</td>\n",
       "      <td>0</td>\n",
       "      <td>1</td>\n",
       "      <td>1</td>\n",
       "      <td>0</td>\n",
       "      <td>0</td>\n",
       "      <td>0</td>\n",
       "      <td>No</td>\n",
       "    </tr>\n",
       "  </tbody>\n",
       "</table>\n",
       "</div>"
      ],
      "text/plain": [
       "  Gender             Scheduled_Day           Appointment_Day  Age  \\\n",
       "0      F 2016-04-29 18:38:08+00:00 2016-04-29 00:00:00+00:00   62   \n",
       "1      M 2016-04-29 16:08:27+00:00 2016-04-29 00:00:00+00:00   56   \n",
       "2      F 2016-04-29 16:19:04+00:00 2016-04-29 00:00:00+00:00   62   \n",
       "3      F 2016-04-29 17:29:31+00:00 2016-04-29 00:00:00+00:00    8   \n",
       "4      F 2016-04-29 16:07:23+00:00 2016-04-29 00:00:00+00:00   56   \n",
       "\n",
       "       Neighbourhood  Scholarship  Hypertension  Diabetes  Alcoholism  \\\n",
       "0    JARDIM DA PENHA            0             1         0           0   \n",
       "1    JARDIM DA PENHA            0             0         0           0   \n",
       "2      MATA DA PRAIA            0             0         0           0   \n",
       "3  PONTAL DE CAMBURI            0             0         0           0   \n",
       "4    JARDIM DA PENHA            0             1         1           0   \n",
       "\n",
       "   Handicap  SMS_received No_show  \n",
       "0         0             0      No  \n",
       "1         0             0      No  \n",
       "2         0             0      No  \n",
       "3         0             0      No  \n",
       "4         0             0      No  "
      ]
     },
     "execution_count": 13,
     "metadata": {},
     "output_type": "execute_result"
    }
   ],
   "source": [
    "df.head()"
   ]
  },
  {
   "cell_type": "code",
   "execution_count": 14,
   "id": "nV72igW8wI-p",
   "metadata": {
    "colab": {
     "base_uri": "https://localhost:8080/",
     "height": 337
    },
    "id": "nV72igW8wI-p",
    "outputId": "310f2fd3-f759-40b1-9194-8b3b9459bbec"
   },
   "outputs": [
    {
     "data": {
      "text/html": [
       "<div>\n",
       "<style scoped>\n",
       "    .dataframe tbody tr th:only-of-type {\n",
       "        vertical-align: middle;\n",
       "    }\n",
       "\n",
       "    .dataframe tbody tr th {\n",
       "        vertical-align: top;\n",
       "    }\n",
       "\n",
       "    .dataframe thead th {\n",
       "        text-align: right;\n",
       "    }\n",
       "</style>\n",
       "<table border=\"1\" class=\"dataframe\">\n",
       "  <thead>\n",
       "    <tr style=\"text-align: right;\">\n",
       "      <th></th>\n",
       "      <th>Gender</th>\n",
       "      <th>Scheduled_Day</th>\n",
       "      <th>Appointment_Day</th>\n",
       "      <th>Age</th>\n",
       "      <th>Neighbourhood</th>\n",
       "      <th>Scholarship</th>\n",
       "      <th>Hypertension</th>\n",
       "      <th>Diabetes</th>\n",
       "      <th>Alcoholism</th>\n",
       "      <th>Handicap</th>\n",
       "      <th>SMS_received</th>\n",
       "      <th>No_show</th>\n",
       "    </tr>\n",
       "  </thead>\n",
       "  <tbody>\n",
       "    <tr>\n",
       "      <th>0</th>\n",
       "      <td>F</td>\n",
       "      <td>2016-04-29 18:38:08+00:00</td>\n",
       "      <td>2016-04-29 00:00:00+00:00</td>\n",
       "      <td>62</td>\n",
       "      <td>JARDIM DA PENHA</td>\n",
       "      <td>False</td>\n",
       "      <td>True</td>\n",
       "      <td>False</td>\n",
       "      <td>False</td>\n",
       "      <td>0</td>\n",
       "      <td>False</td>\n",
       "      <td>No</td>\n",
       "    </tr>\n",
       "    <tr>\n",
       "      <th>1</th>\n",
       "      <td>M</td>\n",
       "      <td>2016-04-29 16:08:27+00:00</td>\n",
       "      <td>2016-04-29 00:00:00+00:00</td>\n",
       "      <td>56</td>\n",
       "      <td>JARDIM DA PENHA</td>\n",
       "      <td>False</td>\n",
       "      <td>False</td>\n",
       "      <td>False</td>\n",
       "      <td>False</td>\n",
       "      <td>0</td>\n",
       "      <td>False</td>\n",
       "      <td>No</td>\n",
       "    </tr>\n",
       "    <tr>\n",
       "      <th>2</th>\n",
       "      <td>F</td>\n",
       "      <td>2016-04-29 16:19:04+00:00</td>\n",
       "      <td>2016-04-29 00:00:00+00:00</td>\n",
       "      <td>62</td>\n",
       "      <td>MATA DA PRAIA</td>\n",
       "      <td>False</td>\n",
       "      <td>False</td>\n",
       "      <td>False</td>\n",
       "      <td>False</td>\n",
       "      <td>0</td>\n",
       "      <td>False</td>\n",
       "      <td>No</td>\n",
       "    </tr>\n",
       "    <tr>\n",
       "      <th>3</th>\n",
       "      <td>F</td>\n",
       "      <td>2016-04-29 17:29:31+00:00</td>\n",
       "      <td>2016-04-29 00:00:00+00:00</td>\n",
       "      <td>8</td>\n",
       "      <td>PONTAL DE CAMBURI</td>\n",
       "      <td>False</td>\n",
       "      <td>False</td>\n",
       "      <td>False</td>\n",
       "      <td>False</td>\n",
       "      <td>0</td>\n",
       "      <td>False</td>\n",
       "      <td>No</td>\n",
       "    </tr>\n",
       "    <tr>\n",
       "      <th>4</th>\n",
       "      <td>F</td>\n",
       "      <td>2016-04-29 16:07:23+00:00</td>\n",
       "      <td>2016-04-29 00:00:00+00:00</td>\n",
       "      <td>56</td>\n",
       "      <td>JARDIM DA PENHA</td>\n",
       "      <td>False</td>\n",
       "      <td>True</td>\n",
       "      <td>True</td>\n",
       "      <td>False</td>\n",
       "      <td>0</td>\n",
       "      <td>False</td>\n",
       "      <td>No</td>\n",
       "    </tr>\n",
       "  </tbody>\n",
       "</table>\n",
       "</div>"
      ],
      "text/plain": [
       "  Gender             Scheduled_Day           Appointment_Day  Age  \\\n",
       "0      F 2016-04-29 18:38:08+00:00 2016-04-29 00:00:00+00:00   62   \n",
       "1      M 2016-04-29 16:08:27+00:00 2016-04-29 00:00:00+00:00   56   \n",
       "2      F 2016-04-29 16:19:04+00:00 2016-04-29 00:00:00+00:00   62   \n",
       "3      F 2016-04-29 17:29:31+00:00 2016-04-29 00:00:00+00:00    8   \n",
       "4      F 2016-04-29 16:07:23+00:00 2016-04-29 00:00:00+00:00   56   \n",
       "\n",
       "       Neighbourhood  Scholarship  Hypertension  Diabetes  Alcoholism  \\\n",
       "0    JARDIM DA PENHA        False          True     False       False   \n",
       "1    JARDIM DA PENHA        False         False     False       False   \n",
       "2      MATA DA PRAIA        False         False     False       False   \n",
       "3  PONTAL DE CAMBURI        False         False     False       False   \n",
       "4    JARDIM DA PENHA        False          True      True       False   \n",
       "\n",
       "   Handicap  SMS_received No_show  \n",
       "0         0         False      No  \n",
       "1         0         False      No  \n",
       "2         0         False      No  \n",
       "3         0         False      No  \n",
       "4         0         False      No  "
      ]
     },
     "execution_count": 14,
     "metadata": {},
     "output_type": "execute_result"
    }
   ],
   "source": [
    "# converting the columns some of the columns with 0 and 1, to True and False. \n",
    "qual_var = ['Scholarship', 'Hypertension', 'Diabetes', 'Alcoholism', 'SMS_received']\n",
    "\n",
    "df[qual_var] = df[qual_var].astype(bool)\n",
    "df.head()"
   ]
  },
  {
   "cell_type": "code",
   "execution_count": 15,
   "id": "VEimwX2LJURk",
   "metadata": {
    "colab": {
     "base_uri": "https://localhost:8080/"
    },
    "id": "VEimwX2LJURk",
    "outputId": "a5841503-318b-475c-8382-7409d4aa928b"
   },
   "outputs": [
    {
     "data": {
      "text/plain": [
       "(110527, 12)"
      ]
     },
     "execution_count": 15,
     "metadata": {},
     "output_type": "execute_result"
    }
   ],
   "source": [
    "df.shape"
   ]
  },
  {
   "cell_type": "code",
   "execution_count": 16,
   "id": "nM42B0AlfYgO",
   "metadata": {
    "id": "nM42B0AlfYgO"
   },
   "outputs": [],
   "source": [
    "# Storing our cleaned data\n",
    "df.to_csv('C:/Users/ADMIN/Desktop/Charity/PROJECT 3/no-show-cleaned.csv', index=False)"
   ]
  },
  {
   "cell_type": "markdown",
   "id": "oJcWP8X2JVYE",
   "metadata": {
    "id": "oJcWP8X2JVYE"
   },
   "source": [
    "### **What is the structure of your dataset?**\n",
    "There are 110,527 patients in the dataset with 12 features (Gender, Scheduled_Day, Appointement_Day, Age, neighbourhood, Scholarship, Hypertension, Diabetes, Alcohoism, Handicap, SMS_received, No_Show). Most variables are categorical in nature, but the variable Age is numeric in nature."
   ]
  },
  {
   "cell_type": "markdown",
   "id": "JqFQqvuuMTgC",
   "metadata": {
    "id": "JqFQqvuuMTgC"
   },
   "source": [
    "### **What is/are the main feature(s) of interest in your dataset?**\n",
    "I'm most interested in figuring out what features best for predicting the reasons why patients do not show up for their doctor's appointment."
   ]
  },
  {
   "cell_type": "markdown",
   "id": "aN_IhL9zNu2q",
   "metadata": {
    "id": "aN_IhL9zNu2q"
   },
   "source": [
    "### **What features in the dataset do you think will help support your investigation into your feature(s) of interest?**\n",
    "I expect that SMS received, Handicap and scholarship will have the strongest effect on each patient's ability to show up for their appointment. I also think that the other variables like Alcoholism, Diabetes, hypertension would also have effects on the availalility of the patients."
   ]
  },
  {
   "cell_type": "markdown",
   "id": "43fd0fb2",
   "metadata": {
    "id": "43fd0fb2"
   },
   "source": [
    "> Now that we are done fixing and accessing our data, we can proceed with our Data Exploration."
   ]
  },
  {
   "cell_type": "markdown",
   "id": "DI272n9TKAF4",
   "metadata": {
    "id": "DI272n9TKAF4"
   },
   "source": [
    "### **UNIVARIATE EXPLORATION**"
   ]
  },
  {
   "cell_type": "markdown",
   "id": "814a1903",
   "metadata": {
    "id": "814a1903"
   },
   "source": [
    "> I will start by looking at the descripitive statisics of the dataset to have a clearer understanding of the datset."
   ]
  },
  {
   "cell_type": "code",
   "execution_count": 17,
   "id": "f8047fac",
   "metadata": {},
   "outputs": [
    {
     "data": {
      "text/html": [
       "<div>\n",
       "<style scoped>\n",
       "    .dataframe tbody tr th:only-of-type {\n",
       "        vertical-align: middle;\n",
       "    }\n",
       "\n",
       "    .dataframe tbody tr th {\n",
       "        vertical-align: top;\n",
       "    }\n",
       "\n",
       "    .dataframe thead th {\n",
       "        text-align: right;\n",
       "    }\n",
       "</style>\n",
       "<table border=\"1\" class=\"dataframe\">\n",
       "  <thead>\n",
       "    <tr style=\"text-align: right;\">\n",
       "      <th></th>\n",
       "      <th>Gender</th>\n",
       "      <th>Scheduled_Day</th>\n",
       "      <th>Appointment_Day</th>\n",
       "      <th>Age</th>\n",
       "      <th>Neighbourhood</th>\n",
       "      <th>Scholarship</th>\n",
       "      <th>Hypertension</th>\n",
       "      <th>Diabetes</th>\n",
       "      <th>Alcoholism</th>\n",
       "      <th>Handicap</th>\n",
       "      <th>SMS_received</th>\n",
       "      <th>No_show</th>\n",
       "    </tr>\n",
       "  </thead>\n",
       "  <tbody>\n",
       "    <tr>\n",
       "      <th>0</th>\n",
       "      <td>F</td>\n",
       "      <td>2016-04-29 18:38:08+00:00</td>\n",
       "      <td>2016-04-29 00:00:00+00:00</td>\n",
       "      <td>62</td>\n",
       "      <td>JARDIM DA PENHA</td>\n",
       "      <td>False</td>\n",
       "      <td>True</td>\n",
       "      <td>False</td>\n",
       "      <td>False</td>\n",
       "      <td>0</td>\n",
       "      <td>False</td>\n",
       "      <td>No</td>\n",
       "    </tr>\n",
       "    <tr>\n",
       "      <th>1</th>\n",
       "      <td>M</td>\n",
       "      <td>2016-04-29 16:08:27+00:00</td>\n",
       "      <td>2016-04-29 00:00:00+00:00</td>\n",
       "      <td>56</td>\n",
       "      <td>JARDIM DA PENHA</td>\n",
       "      <td>False</td>\n",
       "      <td>False</td>\n",
       "      <td>False</td>\n",
       "      <td>False</td>\n",
       "      <td>0</td>\n",
       "      <td>False</td>\n",
       "      <td>No</td>\n",
       "    </tr>\n",
       "    <tr>\n",
       "      <th>2</th>\n",
       "      <td>F</td>\n",
       "      <td>2016-04-29 16:19:04+00:00</td>\n",
       "      <td>2016-04-29 00:00:00+00:00</td>\n",
       "      <td>62</td>\n",
       "      <td>MATA DA PRAIA</td>\n",
       "      <td>False</td>\n",
       "      <td>False</td>\n",
       "      <td>False</td>\n",
       "      <td>False</td>\n",
       "      <td>0</td>\n",
       "      <td>False</td>\n",
       "      <td>No</td>\n",
       "    </tr>\n",
       "    <tr>\n",
       "      <th>3</th>\n",
       "      <td>F</td>\n",
       "      <td>2016-04-29 17:29:31+00:00</td>\n",
       "      <td>2016-04-29 00:00:00+00:00</td>\n",
       "      <td>8</td>\n",
       "      <td>PONTAL DE CAMBURI</td>\n",
       "      <td>False</td>\n",
       "      <td>False</td>\n",
       "      <td>False</td>\n",
       "      <td>False</td>\n",
       "      <td>0</td>\n",
       "      <td>False</td>\n",
       "      <td>No</td>\n",
       "    </tr>\n",
       "    <tr>\n",
       "      <th>4</th>\n",
       "      <td>F</td>\n",
       "      <td>2016-04-29 16:07:23+00:00</td>\n",
       "      <td>2016-04-29 00:00:00+00:00</td>\n",
       "      <td>56</td>\n",
       "      <td>JARDIM DA PENHA</td>\n",
       "      <td>False</td>\n",
       "      <td>True</td>\n",
       "      <td>True</td>\n",
       "      <td>False</td>\n",
       "      <td>0</td>\n",
       "      <td>False</td>\n",
       "      <td>No</td>\n",
       "    </tr>\n",
       "  </tbody>\n",
       "</table>\n",
       "</div>"
      ],
      "text/plain": [
       "  Gender              Scheduled_Day            Appointment_Day  Age  \\\n",
       "0      F  2016-04-29 18:38:08+00:00  2016-04-29 00:00:00+00:00   62   \n",
       "1      M  2016-04-29 16:08:27+00:00  2016-04-29 00:00:00+00:00   56   \n",
       "2      F  2016-04-29 16:19:04+00:00  2016-04-29 00:00:00+00:00   62   \n",
       "3      F  2016-04-29 17:29:31+00:00  2016-04-29 00:00:00+00:00    8   \n",
       "4      F  2016-04-29 16:07:23+00:00  2016-04-29 00:00:00+00:00   56   \n",
       "\n",
       "       Neighbourhood  Scholarship  Hypertension  Diabetes  Alcoholism  \\\n",
       "0    JARDIM DA PENHA        False          True     False       False   \n",
       "1    JARDIM DA PENHA        False         False     False       False   \n",
       "2      MATA DA PRAIA        False         False     False       False   \n",
       "3  PONTAL DE CAMBURI        False         False     False       False   \n",
       "4    JARDIM DA PENHA        False          True      True       False   \n",
       "\n",
       "   Handicap  SMS_received No_show  \n",
       "0         0         False      No  \n",
       "1         0         False      No  \n",
       "2         0         False      No  \n",
       "3         0         False      No  \n",
       "4         0         False      No  "
      ]
     },
     "execution_count": 17,
     "metadata": {},
     "output_type": "execute_result"
    }
   ],
   "source": [
    "## Load the clean data and print out a few lines\n",
    "\n",
    "df = pd.read_csv(\"C:/Users/ADMIN/Desktop/Charity/PROJECT 3/no-show-cleaned.csv\")\n",
    "\n",
    "df.head()\n"
   ]
  },
  {
   "cell_type": "code",
   "execution_count": 18,
   "id": "c7bce39a",
   "metadata": {
    "colab": {
     "base_uri": "https://localhost:8080/",
     "height": 301
    },
    "id": "c7bce39a",
    "outputId": "1409e915-e5ed-457b-ce20-2f5582a87b48"
   },
   "outputs": [
    {
     "data": {
      "text/html": [
       "<div>\n",
       "<style scoped>\n",
       "    .dataframe tbody tr th:only-of-type {\n",
       "        vertical-align: middle;\n",
       "    }\n",
       "\n",
       "    .dataframe tbody tr th {\n",
       "        vertical-align: top;\n",
       "    }\n",
       "\n",
       "    .dataframe thead th {\n",
       "        text-align: right;\n",
       "    }\n",
       "</style>\n",
       "<table border=\"1\" class=\"dataframe\">\n",
       "  <thead>\n",
       "    <tr style=\"text-align: right;\">\n",
       "      <th></th>\n",
       "      <th>Age</th>\n",
       "      <th>Handicap</th>\n",
       "    </tr>\n",
       "  </thead>\n",
       "  <tbody>\n",
       "    <tr>\n",
       "      <th>count</th>\n",
       "      <td>110527.000000</td>\n",
       "      <td>110527.000000</td>\n",
       "    </tr>\n",
       "    <tr>\n",
       "      <th>mean</th>\n",
       "      <td>37.088874</td>\n",
       "      <td>0.022248</td>\n",
       "    </tr>\n",
       "    <tr>\n",
       "      <th>std</th>\n",
       "      <td>23.110205</td>\n",
       "      <td>0.161543</td>\n",
       "    </tr>\n",
       "    <tr>\n",
       "      <th>min</th>\n",
       "      <td>-1.000000</td>\n",
       "      <td>0.000000</td>\n",
       "    </tr>\n",
       "    <tr>\n",
       "      <th>25%</th>\n",
       "      <td>18.000000</td>\n",
       "      <td>0.000000</td>\n",
       "    </tr>\n",
       "    <tr>\n",
       "      <th>50%</th>\n",
       "      <td>37.000000</td>\n",
       "      <td>0.000000</td>\n",
       "    </tr>\n",
       "    <tr>\n",
       "      <th>75%</th>\n",
       "      <td>55.000000</td>\n",
       "      <td>0.000000</td>\n",
       "    </tr>\n",
       "    <tr>\n",
       "      <th>max</th>\n",
       "      <td>115.000000</td>\n",
       "      <td>4.000000</td>\n",
       "    </tr>\n",
       "  </tbody>\n",
       "</table>\n",
       "</div>"
      ],
      "text/plain": [
       "                 Age       Handicap\n",
       "count  110527.000000  110527.000000\n",
       "mean       37.088874       0.022248\n",
       "std        23.110205       0.161543\n",
       "min        -1.000000       0.000000\n",
       "25%        18.000000       0.000000\n",
       "50%        37.000000       0.000000\n",
       "75%        55.000000       0.000000\n",
       "max       115.000000       4.000000"
      ]
     },
     "execution_count": 18,
     "metadata": {},
     "output_type": "execute_result"
    }
   ],
   "source": [
    "# Descriptive Statistics for each column of data\n",
    "\n",
    "df.describe()"
   ]
  },
  {
   "cell_type": "markdown",
   "id": "cIAXNSPQPiGU",
   "metadata": {
    "id": "cIAXNSPQPiGU"
   },
   "source": [
    "> The Mean of the age is around 37. The maximum age is 115 and minimum is -1, these seem like an outlier, but in this case i wouldnt consider them as an outlier, we could actually have someone with the age of 115 and i feel -1 represents the age of the unborn babies. We can see that handicap falls in betwwen 0 and 4."
   ]
  },
  {
   "cell_type": "markdown",
   "id": "pva0eOaZUL5W",
   "metadata": {
    "id": "pva0eOaZUL5W"
   },
   "source": [
    "> I will be picking out the No_show column. I would like to check the unique values in this column. "
   ]
  },
  {
   "cell_type": "code",
   "execution_count": 19,
   "id": "623e8367",
   "metadata": {
    "colab": {
     "base_uri": "https://localhost:8080/"
    },
    "id": "623e8367",
    "outputId": "b5495409-feb6-4fef-bcc3-d9841d1675c7"
   },
   "outputs": [
    {
     "data": {
      "text/plain": [
       "array(['No', 'Yes'], dtype=object)"
      ]
     },
     "execution_count": 19,
     "metadata": {},
     "output_type": "execute_result"
    }
   ],
   "source": [
    "#this returns the unique values in the No_show column\n",
    "\n",
    "df['No_show'].unique()"
   ]
  },
  {
   "cell_type": "code",
   "execution_count": 20,
   "id": "a2d2817c",
   "metadata": {
    "colab": {
     "base_uri": "https://localhost:8080/",
     "height": 280
    },
    "id": "a2d2817c",
    "outputId": "83a59556-aae0-4914-be08-6ae21c3805fc"
   },
   "outputs": [
    {
     "data": {
      "image/png": "[encoded data removed]",
      "text/plain": [
       "<Figure size 432x288 with 1 Axes>"
      ]
     },
     "metadata": {
      "needs_background": "light"
     },
     "output_type": "display_data"
    }
   ],
   "source": [
    "#plotting a count plot for the No show column\n",
    "\n",
    "base_color = sns.color_palette()[0]\n",
    "sns.countplot(data = df, x ='No_show', color=base_color,).set(title ='No show Distribution');"
   ]
  },
  {
   "cell_type": "markdown",
   "id": "646599fc",
   "metadata": {
    "id": "646599fc"
   },
   "source": [
    "> From this barchart, its a either a Yes or No. so its either the patient showed up to the appointment represented by a 'NO' or the patient did not show up reperesented by a 'Yes'.\n",
    "\n",
    "> So, lets find out the number of patients that showed up and the ones that didn't show up.\n",
    "\n",
    "> The barchart clearly shows that less than 50% of the entire population did not show up for the appointment. \n",
    "Now, that I know the number of persons that showed up or did not show up. I can filter my dataset to reflect only those who did not show up for their appointment. Since they are my patients of interest in this analysis. We will call this dataframe 'Did_Not_Show_up'."
   ]
  },
  {
   "cell_type": "code",
   "execution_count": 21,
   "id": "256e7a53",
   "metadata": {
    "id": "256e7a53"
   },
   "outputs": [],
   "source": [
    "# filtering and creating a dataframe to reflect only the YES in the No_show column\n",
    "\n",
    "Did_Not_show_up = df[df['No_show'] == 'Yes']\n"
   ]
  },
  {
   "cell_type": "markdown",
   "id": "Do4WJcuBZ5Xe",
   "metadata": {
    "id": "Do4WJcuBZ5Xe"
   },
   "source": [
    "I will be looking at the distribution of the variables"
   ]
  },
  {
   "cell_type": "code",
   "execution_count": 22,
   "id": "4bcd4fdf",
   "metadata": {
    "colab": {
     "base_uri": "https://localhost:8080/",
     "height": 499
    },
    "id": "4bcd4fdf",
    "outputId": "234b5505-4d9b-4ddb-b91a-739bb6ad07a2"
   },
   "outputs": [
    {
     "data": {
      "image/png": "[encoded data removed]",
      "text/plain": [
       "<Figure size 1800x576 with 2 Axes>"
      ]
     },
     "metadata": {
      "needs_background": "light"
     },
     "output_type": "display_data"
    }
   ],
   "source": [
    "# plotting a histogram to look at the ditribution of the variables\n",
    "\n",
    "Did_Not_show_up.hist(figsize=(25,8));"
   ]
  },
  {
   "cell_type": "markdown",
   "id": "wH3fVzSfZA5L",
   "metadata": {
    "id": "wH3fVzSfZA5L"
   },
   "source": [
    "The greater population of the patients are between ages 0 to 50, with Age 0 having the highest occurence. This Age (0) I consider to be the age of Newborns. The Handicap distribution is already showing us a category of 0 to 4. With the highest occurence at 0, in my opinion, i consider this to be the population without disabilities.  (1,2,3,4) each of these numbers denote the number of disability a patient has."
   ]
  },
  {
   "cell_type": "markdown",
   "id": "deqW7C9qarns",
   "metadata": {
    "id": "deqW7C9qarns"
   },
   "source": [
    "I would like to look at the descriptive statistics of my new data frame"
   ]
  },
  {
   "cell_type": "code",
   "execution_count": 23,
   "id": "527c91ad",
   "metadata": {
    "colab": {
     "base_uri": "https://localhost:8080/",
     "height": 301
    },
    "id": "527c91ad",
    "outputId": "825ad6e5-8324-404f-cebb-05ef00baa3b4"
   },
   "outputs": [
    {
     "data": {
      "text/html": [
       "<div>\n",
       "<style scoped>\n",
       "    .dataframe tbody tr th:only-of-type {\n",
       "        vertical-align: middle;\n",
       "    }\n",
       "\n",
       "    .dataframe tbody tr th {\n",
       "        vertical-align: top;\n",
       "    }\n",
       "\n",
       "    .dataframe thead th {\n",
       "        text-align: right;\n",
       "    }\n",
       "</style>\n",
       "<table border=\"1\" class=\"dataframe\">\n",
       "  <thead>\n",
       "    <tr style=\"text-align: right;\">\n",
       "      <th></th>\n",
       "      <th>Age</th>\n",
       "      <th>Handicap</th>\n",
       "    </tr>\n",
       "  </thead>\n",
       "  <tbody>\n",
       "    <tr>\n",
       "      <th>count</th>\n",
       "      <td>22319.000000</td>\n",
       "      <td>22319.000000</td>\n",
       "    </tr>\n",
       "    <tr>\n",
       "      <th>mean</th>\n",
       "      <td>34.317667</td>\n",
       "      <td>0.020297</td>\n",
       "    </tr>\n",
       "    <tr>\n",
       "      <th>std</th>\n",
       "      <td>21.965941</td>\n",
       "      <td>0.156670</td>\n",
       "    </tr>\n",
       "    <tr>\n",
       "      <th>min</th>\n",
       "      <td>0.000000</td>\n",
       "      <td>0.000000</td>\n",
       "    </tr>\n",
       "    <tr>\n",
       "      <th>25%</th>\n",
       "      <td>16.000000</td>\n",
       "      <td>0.000000</td>\n",
       "    </tr>\n",
       "    <tr>\n",
       "      <th>50%</th>\n",
       "      <td>33.000000</td>\n",
       "      <td>0.000000</td>\n",
       "    </tr>\n",
       "    <tr>\n",
       "      <th>75%</th>\n",
       "      <td>51.000000</td>\n",
       "      <td>0.000000</td>\n",
       "    </tr>\n",
       "    <tr>\n",
       "      <th>max</th>\n",
       "      <td>115.000000</td>\n",
       "      <td>4.000000</td>\n",
       "    </tr>\n",
       "  </tbody>\n",
       "</table>\n",
       "</div>"
      ],
      "text/plain": [
       "                Age      Handicap\n",
       "count  22319.000000  22319.000000\n",
       "mean      34.317667      0.020297\n",
       "std       21.965941      0.156670\n",
       "min        0.000000      0.000000\n",
       "25%       16.000000      0.000000\n",
       "50%       33.000000      0.000000\n",
       "75%       51.000000      0.000000\n",
       "max      115.000000      4.000000"
      ]
     },
     "execution_count": 23,
     "metadata": {},
     "output_type": "execute_result"
    }
   ],
   "source": [
    "Did_Not_show_up.describe()"
   ]
  },
  {
   "cell_type": "markdown",
   "id": "lAYYEqPPbHql",
   "metadata": {
    "id": "lAYYEqPPbHql"
   },
   "source": [
    "> The Mean of the age is around 34. The maximum age is 115 and minimum is now 0, no longer -1. We can also see that handicap falls in betwwen 0 and 4."
   ]
  },
  {
   "cell_type": "markdown",
   "id": "jb3wAQA8b9f4",
   "metadata": {
    "id": "jb3wAQA8b9f4"
   },
   "source": [
    "Lets further look at the Age variable on a larger scale to see if we can get further inisghts"
   ]
  },
  {
   "cell_type": "code",
   "execution_count": 24,
   "id": "42191c28",
   "metadata": {
    "colab": {
     "base_uri": "https://localhost:8080/",
     "height": 334
    },
    "id": "42191c28",
    "outputId": "2937148d-8b5a-4267-a059-c9fdd0513c10"
   },
   "outputs": [
    {
     "data": {
      "image/png": "[encoded data removed]",
      "text/plain": [
       "<Figure size 576x360 with 1 Axes>"
      ]
     },
     "metadata": {
      "needs_background": "light"
     },
     "output_type": "display_data"
    }
   ],
   "source": [
    "# plotting Age on a standard scale\n",
    "binsize = 10\n",
    "bins = np.arange(0, Did_Not_show_up['Age'].max()+binsize, binsize)\n",
    "\n",
    "plt.figure(figsize=[8, 5])\n",
    "plt.hist(data = Did_Not_show_up, x = 'Age', bins = bins)\n",
    "plt.title(\"Age Distribution\")\n",
    "plt.xlabel('Age')\n",
    "plt.show()"
   ]
  },
  {
   "cell_type": "code",
   "execution_count": 25,
   "id": "00696891",
   "metadata": {
    "colab": {
     "base_uri": "https://localhost:8080/",
     "height": 334
    },
    "id": "00696891",
    "outputId": "908ccb74-9e95-4d32-de21-b05c755185f3"
   },
   "outputs": [
    {
     "data": {
      "image/png": "[encoded data removed]",
      "text/plain": [
       "<Figure size 576x360 with 1 Axes>"
      ]
     },
     "metadata": {
      "needs_background": "light"
     },
     "output_type": "display_data"
    }
   ],
   "source": [
    "# investigating further on an even smaller bin size\n",
    "binsize = 1\n",
    "bins = np.arange(0, Did_Not_show_up['Age'].max()+binsize, binsize)\n",
    "\n",
    "plt.figure(figsize=[8, 5])\n",
    "plt.hist(data = Did_Not_show_up, x = 'Age', bins = bins)\n",
    "plt.title('Age Distribution')\n",
    "plt.xlabel('Age')\n",
    "plt.show()"
   ]
  },
  {
   "cell_type": "markdown",
   "id": "n4jCCMZBjm9O",
   "metadata": {
    "id": "n4jCCMZBjm9O"
   },
   "source": [
    "> The distribution shows a very high peak for Age 0. The Newborns have shown to constitute a greater part of the population. Ages 1 to 20 constitute about 50% of the the population. As the age is increasing , their population reduces. \n",
    "\n",
    "Lets further look at my variables of interest.  Could SMS received, scholarship and Handicap be a contributing factor to people not showing up to the appointement? How?\n"
   ]
  },
  {
   "cell_type": "code",
   "execution_count": 26,
   "id": "1a09e9ee",
   "metadata": {
    "colab": {
     "base_uri": "https://localhost:8080/",
     "height": 497
    },
    "id": "1a09e9ee",
    "outputId": "92541ed5-a4d2-4c0d-8a03-cde24bb9a862"
   },
   "outputs": [
    {
     "name": "stderr",
     "output_type": "stream",
     "text": [
      "<__array_function__ internals>:5: RuntimeWarning: Converting input from bool to <class 'numpy.uint8'> for compatibility.\n"
     ]
    },
    {
     "data": {
      "image/png": "[encoded data removed]",
      "text/plain": [
       "<Figure size 576x576 with 3 Axes>"
      ]
     },
     "metadata": {
      "needs_background": "light"
     },
     "output_type": "display_data"
    }
   ],
   "source": [
    "# plotting the distribution of Scholarship, SMS received, Handicap\n",
    "\n",
    "fig, ax = plt.subplots(nrows=3, figsize = [8,8])\n",
    "\n",
    "variables = ['Scholarship', 'SMS_received', 'Handicap']\n",
    "for i in range(len(variables)):\n",
    "    var = variables[i]\n",
    "    bins = np.arange(min(Did_Not_show_up[var]), max(Did_Not_show_up[var])+0.2, 0.2)\n",
    "    ax[i].hist(data = Did_Not_show_up, x = var, bins = bins)\n",
    "    ax[i].set_xlabel('{} (mm)'.format(var))\n",
    "\n",
    "plt.show();\n"
   ]
  },
  {
   "cell_type": "markdown",
   "id": "4F5_uZom4WFn",
   "metadata": {
    "id": "4F5_uZom4WFn"
   },
   "source": [
    "> The above bar charts shows that more than 80% of the population are not benefic0ificiaries of the Bolsa program (a govt funded poverty alleviation program), less thsn 20% are not benefiicaries. More than 80% of the population did not receievd the SMS, and about 70% received the SMS. Handicap has 0 to 4 categories based on the nature of their disabilities."
   ]
  },
  {
   "cell_type": "markdown",
   "id": "9C2G_8OtLyaA",
   "metadata": {
    "id": "9C2G_8OtLyaA"
   },
   "source": [
    "### **Discuss the distribution(s) of your variable(s) of interest. Were there any unusual points? Did you need to perform any transformations**\n",
    "\n",
    "> The No show distribution shows a gap between those who showed up to the appointment and those that did not show up. From the distibution we can see that about 80% of the patient population showed up while about 20% of them did not show up for their apointment."
   ]
  },
  {
   "cell_type": "markdown",
   "id": "BRCU7CEpY1LP",
   "metadata": {
    "id": "BRCU7CEpY1LP"
   },
   "source": [
    "### **Of the features you investigated, were there any unusual distributions? Did you perform any operations on the data to tidy, adjust, or change the form of the data? If so, why did you do this?**\n",
    "\n",
    "> For the Age variable I had -1 as minimum value. After filtering my dataset, it was removed and my minimum value became 0. "
   ]
  },
  {
   "cell_type": "markdown",
   "id": "2773a883",
   "metadata": {
    "id": "2773a883"
   },
   "source": [
    "### **Bivariate Exploration**"
   ]
  },
  {
   "cell_type": "markdown",
   "id": "CtAhZLWxpP3Z",
   "metadata": {
    "id": "CtAhZLWxpP3Z"
   },
   "source": [
    ">To start off with, I want to look at the pairwise relationships present between features in the data."
   ]
  },
  {
   "cell_type": "code",
   "execution_count": 27,
   "id": "z7EnoUBN9vxM",
   "metadata": {
    "colab": {
     "base_uri": "https://localhost:8080/",
     "height": 297
    },
    "id": "z7EnoUBN9vxM",
    "outputId": "dc4a00d0-4bcc-4ffa-9cd0-27eaa8f46527"
   },
   "outputs": [
    {
     "data": {
      "image/png": "[encoded data removed]",
      "text/plain": [
       "<Figure size 432x288 with 1 Axes>"
      ]
     },
     "metadata": {
      "needs_background": "light"
     },
     "output_type": "display_data"
    }
   ],
   "source": [
    "# plotting a handicap vs scholarship countplpot\n",
    "sns.countplot(data = Did_Not_show_up, x = 'Handicap', hue = 'Scholarship').set(title ='Handicap vs Scholarship count');"
   ]
  },
  {
   "cell_type": "markdown",
   "id": "mu10BfKGVNdV",
   "metadata": {
    "id": "mu10BfKGVNdV"
   },
   "source": [
    "> From the bar chart above, we can see that a greater part of the patient population are not handicapped, yet they are not on scholarship as well. Less than 30% of the population of the Non handicap population are beneficiaries of the scholarship. This scholarship aims at alleviating poverty, by providing financial aid to the families. Hence those are not beneficiaries, obviously wouldnt have money to go for their hospital appointments."
   ]
  },
  {
   "cell_type": "code",
   "execution_count": 28,
   "id": "zBp8jv11XcNL",
   "metadata": {
    "colab": {
     "base_uri": "https://localhost:8080/",
     "height": 279
    },
    "id": "zBp8jv11XcNL",
    "outputId": "f08b2bc3-de16-4a12-8e84-089d4bd702b7"
   },
   "outputs": [
    {
     "data": {
      "image/png": "[encoded data removed]",
      "text/plain": [
       "<Figure size 432x288 with 1 Axes>"
      ]
     },
     "metadata": {
      "needs_background": "light"
     },
     "output_type": "display_data"
    }
   ],
   "source": [
    "# plotting a handicap vs sms received countplot\n",
    "sns.countplot(data = Did_Not_show_up, x = 'Handicap', hue = 'SMS_received').set(title ='Handicap vs SMS Received count');"
   ]
  },
  {
   "cell_type": "markdown",
   "id": "lbfcCADt9SYj",
   "metadata": {
    "id": "lbfcCADt9SYj"
   },
   "source": [
    "> This chart shows us that more than 90% of the population are without any form of disability. In this non handicap population, the number of persons that did not receive the SMS is about 30% greater than those that received the sms. Also for those with disabilities, just a few number of them received the sms. A lot of them did not rceive the sms."
   ]
  },
  {
   "cell_type": "code",
   "execution_count": 29,
   "id": "X_Wsrmsvuju7",
   "metadata": {
    "colab": {
     "base_uri": "https://localhost:8080/",
     "height": 279
    },
    "id": "X_Wsrmsvuju7",
    "outputId": "b30f3ec3-0ac8-4b7b-a490-2684819b30b9"
   },
   "outputs": [
    {
     "data": {
      "image/png": "[encoded data removed]",
      "text/plain": [
       "<Figure size 432x288 with 1 Axes>"
      ]
     },
     "metadata": {
      "needs_background": "light"
     },
     "output_type": "display_data"
    }
   ],
   "source": [
    "#plotting scholarship vs sms received countplot\n",
    "sns.countplot(data = Did_Not_show_up, x = 'Scholarship', hue = 'SMS_received').set(title ='Scholarship vs SMS Received count');"
   ]
  },
  {
   "cell_type": "markdown",
   "id": "IVlRY4nk--_N",
   "metadata": {
    "id": "IVlRY4nk--_N"
   },
   "source": [
    "We can also see the same type of relationship existing between SMS received and handicapped playing out here.  This chart shows us that more than 90% of the population are not beneficiaries of the scholarship program. In this Non beneficiary population, the number of persons that did not receive the SMS is about 30% greater than those that receive the SMS."
   ]
  },
  {
   "cell_type": "code",
   "execution_count": 30,
   "id": "ovxVydklmVJx",
   "metadata": {
    "colab": {
     "base_uri": "https://localhost:8080/",
     "height": 497
    },
    "id": "ovxVydklmVJx",
    "outputId": "c6e0afe3-9a7b-436e-9aea-83bc00a91fad"
   },
   "outputs": [
    {
     "data": {
      "image/png": "[encoded data removed]",
      "text/plain": [
       "<Figure size 576x576 with 3 Axes>"
      ]
     },
     "metadata": {
      "needs_background": "light"
     },
     "output_type": "display_data"
    }
   ],
   "source": [
    "# plotting an interplay between handicap vs hypertension, diabetes and Alcoholism\n",
    "\n",
    "# since there's only three subplots to create, using the full data should be fine.\n",
    "plt.figure(figsize = [8, 8])\n",
    "\n",
    "# subplot 1: Handicapped vs Hypertension\n",
    "plt.subplot(3, 1, 1)\n",
    "sns.countplot(data = Did_Not_show_up, x = 'Handicap', hue = 'Hypertension', palette = 'Blues')\n",
    "\n",
    "# subplot 2: Handicapped vs. Diabetes\n",
    "ax = plt.subplot(3, 1, 2)\n",
    "sns.countplot(data = Did_Not_show_up, x = 'Handicap', hue = 'Diabetes', palette = 'Reds')\n",
    "ax.legend(ncol = 2) # re-arrange legend to reduce overlapping\n",
    "\n",
    "# subplot 3: Handicapped vs. Alcoholism, use different color palette\n",
    "ax = plt.subplot(3, 1, 3)\n",
    "sns.countplot(data = Did_Not_show_up, x = 'Handicap', hue = 'Alcoholism', palette = 'Greens')\n",
    "ax.legend(loc = 1, ncol = 2);\n",
    " # re-arrange legend to remove overlapping"
   ]
  },
  {
   "cell_type": "markdown",
   "id": "Jxr6gadOpsAb",
   "metadata": {
    "id": "Jxr6gadOpsAb"
   },
   "source": [
    "From the above countplot. Its clearly shown that a greater percentage of the population are not handicapped. These Non handicapped individuals also are not really hypertensive, Diabetic and alcoholics. Meaning that these indivuals are healthy with reference to this particular illnesses. Just a small number of the population,less than 30% to be precise are hypertensive or diabetic and Alcoholics"
   ]
  },
  {
   "cell_type": "code",
   "execution_count": 31,
   "id": "AWaXRGUtZCl4",
   "metadata": {
    "colab": {
     "base_uri": "https://localhost:8080/",
     "height": 286
    },
    "id": "AWaXRGUtZCl4",
    "outputId": "03a34113-8146-45c5-ab61-130071f2ccf0"
   },
   "outputs": [
    {
     "data": {
      "image/png": "[encoded data removed]",
      "text/plain": [
       "<Figure size 432x288 with 1 Axes>"
      ]
     },
     "metadata": {
      "needs_background": "light"
     },
     "output_type": "display_data"
    }
   ],
   "source": [
    "# plotting Age vs Alcoholism\n",
    "\n",
    "base_color = sns.color_palette()[0]\n",
    "\n",
    "# The \"inner\" argument represents the datapoints in the violin interior. \n",
    "# It can take any value from {“box”, “quartile”, “point”, “stick”, None}\n",
    "# If \"box\", it draws a miniature boxplot. \n",
    "sns.violinplot(data=Did_Not_show_up, x='Alcoholism', y='Age', color=base_color, inner='quartile').set(title ='Age vs Alcoholism')\n",
    "plt.xticks(rotation=15);"
   ]
  },
  {
   "cell_type": "markdown",
   "id": "NzU33V09GzDd",
   "metadata": {
    "id": "NzU33V09GzDd"
   },
   "source": [
    "From this violin plot, we can see that Ages increasing from 40 to 60 has the higher number of alcoholics for the population that is true for alcohol. With age 50 having the highest number of alcoholics.  "
   ]
  },
  {
   "cell_type": "code",
   "execution_count": 32,
   "id": "7fuPRgWIoI0T",
   "metadata": {
    "colab": {
     "base_uri": "https://localhost:8080/",
     "height": 286
    },
    "id": "7fuPRgWIoI0T",
    "outputId": "8e697dd6-24a7-4683-db88-17200ad48e64"
   },
   "outputs": [
    {
     "data": {
      "image/png": "[encoded data removed]",
      "text/plain": [
       "<Figure size 432x288 with 1 Axes>"
      ]
     },
     "metadata": {
      "needs_background": "light"
     },
     "output_type": "display_data"
    }
   ],
   "source": [
    "#plotting Age vs diabetes\n",
    "\n",
    "base_color = sns.color_palette()[0]\n",
    "\n",
    "# The \"inner\" argument represents the datapoints in the violin interior. \n",
    "# It can take any value from {“box”, “quartile”, “point”, “stick”, None}\n",
    "# If \"box\", it draws a miniature boxplot. \n",
    "sns.violinplot(data=Did_Not_show_up, x='Diabetes', y='Age', color=base_color, inner='quartile').set(title ='Age vs Diabetes')\n",
    "plt.xticks(rotation=15);"
   ]
  },
  {
   "cell_type": "markdown",
   "id": "3A_XPnQ1rVOo",
   "metadata": {
    "id": "3A_XPnQ1rVOo"
   },
   "source": [
    "The diabetic population increases from Age 50 to 70. With the highest diabetic patients around Age 60. This can actually be a great factor contributing to them not showing up at the hospital."
   ]
  },
  {
   "cell_type": "code",
   "execution_count": 33,
   "id": "8on2VzOOskAT",
   "metadata": {
    "colab": {
     "base_uri": "https://localhost:8080/",
     "height": 286
    },
    "id": "8on2VzOOskAT",
    "outputId": "68d5059b-4888-4800-f2b6-5360a77e4d4c"
   },
   "outputs": [
    {
     "data": {
      "image/png": "[encoded data removed]",
      "text/plain": [
       "<Figure size 432x288 with 1 Axes>"
      ]
     },
     "metadata": {
      "needs_background": "light"
     },
     "output_type": "display_data"
    }
   ],
   "source": [
    "# plotting Age vs hypertension\n",
    "\n",
    "base_color = sns.color_palette()[0]\n",
    "\n",
    "# The \"inner\" argument represents the datapoints in the violin interior. \n",
    "# It can take any value from {“box”, “quartile”, “point”, “stick”, None}\n",
    "# If \"box\", it draws a miniature boxplot. \n",
    "sns.violinplot(data=Did_Not_show_up, x='Hypertension', y='Age', color=base_color, inner='quartile').set(title ='Age vs Hypertension')\n",
    "plt.xticks(rotation=15);"
   ]
  },
  {
   "cell_type": "markdown",
   "id": "9kVvmrhWtXDv",
   "metadata": {
    "id": "9kVvmrhWtXDv"
   },
   "source": [
    "> The hypertensive population increases from Age 40 to 70. With the highest hypertensive population around Age 60. "
   ]
  },
  {
   "cell_type": "markdown",
   "id": "K_DSrMqRGuy5",
   "metadata": {
    "id": "K_DSrMqRGuy5"
   },
   "source": [
    "### **Talk about some of the relationships you observed in this part of the investigation. How did the feature(s) of interest vary with other features in the dataset?**\n",
    "\n",
    "> A greater percentage of the population are not beneficaries of the bolsa scholarship program, neither are they handicapped. Not having access to financial funds could be a great contributing factor for not showing up for their appointments. \n",
    "\n",
    "> It can also be seen that these larger non handicapped population also did not receive the SMS, this is also another factor."
   ]
  },
  {
   "cell_type": "markdown",
   "id": "nAbuc5a_vXfq",
   "metadata": {
    "id": "nAbuc5a_vXfq"
   },
   "source": [
    "### **Did you observe any interesting relationships between the other features (not the main feature(s) of interest)?**\n",
    "\n",
    "> Looking at the distributions between Age and the diseases (Diabetes, Alcoholism and Hypertension), its obvious this diseases and addiction thrive around people from Age 40 and above. With some of them being dominant around age 50 to 60. This could be a great factor that can affect the patients thereby causing them not to show up for their apppointments. We will still look deeper into their interractions with other variables"
   ]
  },
  {
   "cell_type": "markdown",
   "id": "-QF7sSbH1A0c",
   "metadata": {
    "id": "-QF7sSbH1A0c"
   },
   "source": [
    "## **Multivariate Exploration**"
   ]
  },
  {
   "cell_type": "markdown",
   "id": "iUD-3TK24gje",
   "metadata": {
    "id": "iUD-3TK24gje"
   },
   "source": [
    "The main thing I want to explore in this part of the analysis is how the three categorical variables interplay with the numeric variable Age."
   ]
  },
  {
   "cell_type": "code",
   "execution_count": 34,
   "id": "5kcE9WMROirf",
   "metadata": {
    "colab": {
     "base_uri": "https://localhost:8080/",
     "height": 279
    },
    "id": "5kcE9WMROirf",
    "outputId": "b00e7eb8-e078-4cce-8a7b-3e4e619bac3c"
   },
   "outputs": [
    {
     "data": {
      "image/png": "[encoded data removed]",
      "text/plain": [
       "<Figure size 432x288 with 1 Axes>"
      ]
     },
     "metadata": {
      "needs_background": "light"
     },
     "output_type": "display_data"
    }
   ],
   "source": [
    "# plotting a barplot to show the relationship between Handicap, Age, and sms received\n",
    "ax = sns.barplot(data = Did_Not_show_up, x = 'Handicap', y = 'Age', hue = 'SMS_received')\n",
    "ax.legend(loc = 8, ncol = 3, framealpha = 1, title = 'SMS_received')\n",
    "ax.set(title='Handicap vs Age vs SMS Received');"
   ]
  },
  {
   "cell_type": "markdown",
   "id": "sY9AyhrFgkl-",
   "metadata": {
    "id": "sY9AyhrFgkl-"
   },
   "source": [
    "> Those without disability, their age spans from 0 to 35, and they have an almost equal distribution of SMS received, meaning that half of the population received and half did not receive the sms. Those with 1 disability, their age spans from 0 to 51, and they also have an almost equal ditributution of sms received. Suprisingly those with 2 forms of disability received more SMS than others. For those with 3 and 4 disability, more than half of their population did not receive the sms. \n",
    "\n",
    "> Receiving sms is an important factor because if you do not receive the sms, you wont know that you v been scheduled for an appointment, thererby not showing up. So lets us find out why some persons received the sms but yet did not show up for their appointment."
   ]
  },
  {
   "cell_type": "code",
   "execution_count": 35,
   "id": "kaSkWb1rKXsM",
   "metadata": {
    "colab": {
     "base_uri": "https://localhost:8080/",
     "height": 279
    },
    "id": "kaSkWb1rKXsM",
    "outputId": "8d3ad228-9730-46c7-9be3-f75d4ae67288"
   },
   "outputs": [
    {
     "data": {
      "image/png": "[encoded data removed]",
      "text/plain": [
       "<Figure size 432x288 with 1 Axes>"
      ]
     },
     "metadata": {
      "needs_background": "light"
     },
     "output_type": "display_data"
    }
   ],
   "source": [
    "# plotting a barplot to show the relationship between Handicap, Age, and Scholarship\n",
    "ax = sns.barplot(data = Did_Not_show_up, x = 'Handicap', y = 'Age', hue = 'Scholarship')\n",
    "ax.legend(loc = 8, ncol = 3, framealpha = 1, title = 'Scholarship');\n",
    "ax.set(title='Handicap vs Age vs Scholarship');"
   ]
  },
  {
   "cell_type": "markdown",
   "id": "mwvfNps5imlX",
   "metadata": {
    "id": "mwvfNps5imlX"
   },
   "source": [
    "In the previous barchart we noticed those with 2 disabilities received more sms but still did not show up for their appointment. It is evident in this barchart that more than 70% of the level 2 population (those with 2 disabilities) are not beneficiaries of the scholarship. Patients with 3 or 4 disability are not even benficiaries of the bolsa scholarship program, not one of them. Those with 1 or 2 disability still has quite a number of them who are also not beneficiaries of the scholarship program. "
   ]
  },
  {
   "cell_type": "markdown",
   "id": "chh8uvEt1pds",
   "metadata": {
    "id": "chh8uvEt1pds"
   },
   "source": [
    "### **Talk about some of the relationships you observed in this part of the investigation. Were there features that strengthened each other in terms of looking at your feature(s) of interest?**\n",
    "\n",
    "> I extended my investigation by further looking at the impact os Age on Handicap, SMS received and scholarship features. The multivariate exploration here showed that the patient popualtion with 1 or 2 disability had an equal distribution of SMS received. For those with more than 2 disabilities, more tha half of their population did ot receive the sms. Looking deeper at the multivariate relationship with scholarship received. its clearly seen here, that a good number of these population from all levels of disability are not not beneficiaries of the bolsa scholarship program.\n",
    "\n"
   ]
  },
  {
   "cell_type": "markdown",
   "id": "TPB8-kWW12Yr",
   "metadata": {
    "id": "TPB8-kWW12Yr"
   },
   "source": [
    "### **Were there any interesting or surprising interactions between features?**\n",
    "\n",
    "> Looking at the barchart of the relationship between, Age, Handicap and scholarship, it was suprising to see that patients with 3 or 4 disability are not even beneficiaries of the scholarship program. No one on this level of disability is a beneficiary."
   ]
  },
  {
   "cell_type": "markdown",
   "id": "683f7d43",
   "metadata": {
    "id": "683f7d43"
   },
   "source": [
    "### **Conclusions** : From the above data analysis, we can deduce that;\n",
    "\n",
    "> Most persons did not receive the sms (more than 50% of the population). Hence contributing to their not showing up to the appointment.\n",
    "\n",
    "> The analysis also showed that few persons are handicapped, hence could not make it to their appointment.\n",
    "\n",
    "> Also more than 75% of the population are not beneficiaries of the Bolsa Familia program, hence they also couldn't make it to the appointment due to financial constraints.\n",
    "\n",
    "> From the analysis we can see that those with 2 disabilities received more sms, yet did not show up for their appointment. This is due to the fact that more than 70% of the level 2 population are not beneficiaries of the scholarship. Patients with 3 or 4 disability also are not even benficiaries of the scholarship program. In order to be eligible for the bolsa scholarship program, parents must ensure children attend school and get vaccinated. but for this people with more than 2 disabilities propbably could not even go to school because of their condition, hence making them not to be part of the scholarship program, this in turn deter them from showing up for their appointments.\n",
    "\n",
    "> The patient population above the age of 40, have a lot patients suffering from hypertension and diabetes, and also most of them were alcoholics. This factors can really contribute to their not showing up for their appointments.\n",
    "\n",
    "> Finally we'v clearly seen that even though some persons received the sms, they still did NOT show up for the appointment because they are either handicapped, suffering from either of the illnesses or not benefitting from the scholarship program.\n",
    "\n",
    "> Before I started the exploration process, I did some data wrangling which involves; dropping columns which were not relevant to my analysis, renaming cloumns and fixing datatypes. Then i filtered the dataset due to the fact that my interest lies in the patient population that did not show up for their appointment.\n",
    "\n",
    "> Afterwards I introduced each of these variables one by one. To start, I used a histogram to show their various distributions. I then explored further by looking at the pairwise and multivariate relationship between these variables using barchart and violin plots."
   ]
  }
 ],
 "metadata": {
  "colab": {
   "collapsed_sections": [
    "683f7d43"
   ],
   "name": "PROJECT 3 ON NO-SHOWS APPOINTMENT-Copy1.ipynb",
   "provenance": []
  },
  "kernelspec": {
   "display_name": "Python 3 (ipykernel)",
   "language": "python",
   "name": "python3"
  },
  "language_info": {
   "codemirror_mode": {
    "name": "ipython",
    "version": 3
   },
   "file_extension": ".py",
   "mimetype": "text/x-python",
   "name": "python",
   "nbconvert_exporter": "python",
   "pygments_lexer": "ipython3",
   "version": "3.9.12"
  }
 },
 "nbformat": 4,
 "nbformat_minor": 5
}
